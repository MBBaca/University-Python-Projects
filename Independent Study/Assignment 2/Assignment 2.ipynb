{
 "cells": [
  {
   "cell_type": "code",
   "execution_count": 1,
   "id": "df484ff4",
   "metadata": {},
   "outputs": [],
   "source": [
    "import pandas as pd\n",
    "import matplotlib.pyplot as plt\n",
    "import seaborn as sns"
   ]
  },
  {
   "cell_type": "code",
   "execution_count": 2,
   "id": "15e35bce",
   "metadata": {},
   "outputs": [],
   "source": [
    "starsinfo = pd.read_csv(\"C:\\\\Users\\\\marco\\\\OneDrive\\\\Documents\\\\Fall 2022 Classes\\\\Indepedent Study\\\\Assignment 2\\\\StarsInfo.csv\")\n",
    "starsmeasurements = pd.read_csv(\"C:\\\\Users\\\\marco\\\\OneDrive\\\\Documents\\\\Fall 2022 Classes\\\\Indepedent Study\\\\Assignment 2\\\\StarsMeasurements.csv\")\n",
    "starsmodel1 = pd.read_csv(\"C:\\\\Users\\\\marco\\\\OneDrive\\\\Documents\\\\Fall 2022 Classes\\\\Indepedent Study\\\\Assignment 2\\\\StarsModel1.csv\")\n",
    "starsmodel2 = pd.read_csv(\"C:\\\\Users\\\\marco\\\\OneDrive\\\\Documents\\\\Fall 2022 Classes\\\\Indepedent Study\\\\Assignment 2\\\\StarsModel2.csv\")\n",
    "starsmodel3 = pd.read_csv(\"C:\\\\Users\\\\marco\\\\OneDrive\\\\Documents\\\\Fall 2022 Classes\\\\Indepedent Study\\\\Assignment 2\\\\StarsModel3.csv\")\n",
    "starsmodel4 = pd.read_csv(\"C:\\\\Users\\\\marco\\\\OneDrive\\\\Documents\\\\Fall 2022 Classes\\\\Indepedent Study\\\\Assignment 2\\\\StarsModel4.csv\")"
   ]
  },
  {
   "cell_type": "code",
   "execution_count": 3,
   "id": "6a0c56e0",
   "metadata": {},
   "outputs": [
    {
     "data": {
      "text/html": [
       "<div>\n",
       "<style scoped>\n",
       "    .dataframe tbody tr th:only-of-type {\n",
       "        vertical-align: middle;\n",
       "    }\n",
       "\n",
       "    .dataframe tbody tr th {\n",
       "        vertical-align: top;\n",
       "    }\n",
       "\n",
       "    .dataframe thead th {\n",
       "        text-align: right;\n",
       "    }\n",
       "</style>\n",
       "<table border=\"1\" class=\"dataframe\">\n",
       "  <thead>\n",
       "    <tr style=\"text-align: right;\">\n",
       "      <th></th>\n",
       "      <th>Region</th>\n",
       "      <th>Star</th>\n",
       "      <th>RA</th>\n",
       "      <th>Dec</th>\n",
       "      <th>Distance</th>\n",
       "    </tr>\n",
       "  </thead>\n",
       "  <tbody>\n",
       "    <tr>\n",
       "      <th>0</th>\n",
       "      <td>Lupus</td>\n",
       "      <td>Sz65</td>\n",
       "      <td>39:27.8</td>\n",
       "      <td>-34:46:17.577</td>\n",
       "      <td>153.47</td>\n",
       "    </tr>\n",
       "    <tr>\n",
       "      <th>1</th>\n",
       "      <td>Lupus</td>\n",
       "      <td>Sz66</td>\n",
       "      <td>39:28.3</td>\n",
       "      <td>-34:46:18.450</td>\n",
       "      <td>155.92</td>\n",
       "    </tr>\n",
       "    <tr>\n",
       "      <th>2</th>\n",
       "      <td>Lupus</td>\n",
       "      <td>J15430131-3409153</td>\n",
       "      <td>43:01.3</td>\n",
       "      <td>-34:09:15.400</td>\n",
       "      <td>158.00</td>\n",
       "    </tr>\n",
       "    <tr>\n",
       "      <th>3</th>\n",
       "      <td>Lupus</td>\n",
       "      <td>J15430227-3444059</td>\n",
       "      <td>43:02.3</td>\n",
       "      <td>-34:44:06.200</td>\n",
       "      <td>158.00</td>\n",
       "    </tr>\n",
       "    <tr>\n",
       "      <th>4</th>\n",
       "      <td>Lupus</td>\n",
       "      <td>J15445789-3423392</td>\n",
       "      <td>44:57.9</td>\n",
       "      <td>-34:23:39.500</td>\n",
       "      <td>153.95</td>\n",
       "    </tr>\n",
       "    <tr>\n",
       "      <th>...</th>\n",
       "      <td>...</td>\n",
       "      <td>...</td>\n",
       "      <td>...</td>\n",
       "      <td>...</td>\n",
       "      <td>...</td>\n",
       "    </tr>\n",
       "    <tr>\n",
       "      <th>886</th>\n",
       "      <td>CrA</td>\n",
       "      <td>Haas 17</td>\n",
       "      <td>01:51.7</td>\n",
       "      <td>-36:55:14.200</td>\n",
       "      <td>156.00</td>\n",
       "    </tr>\n",
       "    <tr>\n",
       "      <th>887</th>\n",
       "      <td>CrA</td>\n",
       "      <td>LS-RCrA 1</td>\n",
       "      <td>01:33.6</td>\n",
       "      <td>-37:00:30.300</td>\n",
       "      <td>154.79</td>\n",
       "    </tr>\n",
       "    <tr>\n",
       "      <th>888</th>\n",
       "      <td>CrA</td>\n",
       "      <td>G09 CrA-9</td>\n",
       "      <td>01:58.3</td>\n",
       "      <td>-37:01:06.000</td>\n",
       "      <td>156.00</td>\n",
       "    </tr>\n",
       "    <tr>\n",
       "      <th>889</th>\n",
       "      <td>CrA</td>\n",
       "      <td>S CrA S</td>\n",
       "      <td>01:08.6</td>\n",
       "      <td>-36:57:20.300</td>\n",
       "      <td>156.00</td>\n",
       "    </tr>\n",
       "    <tr>\n",
       "      <th>890</th>\n",
       "      <td>CrA</td>\n",
       "      <td>CrA-45 W</td>\n",
       "      <td>03:16.1</td>\n",
       "      <td>-37:14:08.200</td>\n",
       "      <td>156.00</td>\n",
       "    </tr>\n",
       "  </tbody>\n",
       "</table>\n",
       "<p>891 rows × 5 columns</p>\n",
       "</div>"
      ],
      "text/plain": [
       "    Region               Star       RA            Dec  Distance\n",
       "0    Lupus               Sz65  39:27.8  -34:46:17.577    153.47\n",
       "1    Lupus               Sz66  39:28.3  -34:46:18.450    155.92\n",
       "2    Lupus  J15430131-3409153  43:01.3  -34:09:15.400    158.00\n",
       "3    Lupus  J15430227-3444059  43:02.3  -34:44:06.200    158.00\n",
       "4    Lupus  J15445789-3423392  44:57.9  -34:23:39.500    153.95\n",
       "..     ...                ...      ...            ...       ...\n",
       "886    CrA            Haas 17  01:51.7  -36:55:14.200    156.00\n",
       "887    CrA          LS-RCrA 1  01:33.6  -37:00:30.300    154.79\n",
       "888    CrA          G09 CrA-9  01:58.3  -37:01:06.000    156.00\n",
       "889    CrA            S CrA S  01:08.6  -36:57:20.300    156.00\n",
       "890    CrA           CrA-45 W  03:16.1  -37:14:08.200    156.00\n",
       "\n",
       "[891 rows x 5 columns]"
      ]
     },
     "execution_count": 3,
     "metadata": {},
     "output_type": "execute_result"
    }
   ],
   "source": [
    "starsinfo"
   ]
  },
  {
   "cell_type": "code",
   "execution_count": 4,
   "id": "264565c7",
   "metadata": {},
   "outputs": [
    {
     "data": {
      "text/html": [
       "<div>\n",
       "<style scoped>\n",
       "    .dataframe tbody tr th:only-of-type {\n",
       "        vertical-align: middle;\n",
       "    }\n",
       "\n",
       "    .dataframe tbody tr th {\n",
       "        vertical-align: top;\n",
       "    }\n",
       "\n",
       "    .dataframe thead th {\n",
       "        text-align: right;\n",
       "    }\n",
       "</style>\n",
       "<table border=\"1\" class=\"dataframe\">\n",
       "  <thead>\n",
       "    <tr style=\"text-align: right;\">\n",
       "      <th></th>\n",
       "      <th>Star</th>\n",
       "      <th>Teff</th>\n",
       "      <th>Lstar</th>\n",
       "      <th>logLacc</th>\n",
       "    </tr>\n",
       "  </thead>\n",
       "  <tbody>\n",
       "    <tr>\n",
       "      <th>0</th>\n",
       "      <td>Sz65</td>\n",
       "      <td>4020.0</td>\n",
       "      <td>0.869</td>\n",
       "      <td>-2.580</td>\n",
       "    </tr>\n",
       "    <tr>\n",
       "      <th>1</th>\n",
       "      <td>Sz66</td>\n",
       "      <td>3410.0</td>\n",
       "      <td>0.216</td>\n",
       "      <td>-1.767</td>\n",
       "    </tr>\n",
       "    <tr>\n",
       "      <th>2</th>\n",
       "      <td>J15430131-3409153</td>\n",
       "      <td>NaN</td>\n",
       "      <td>NaN</td>\n",
       "      <td>NaN</td>\n",
       "    </tr>\n",
       "    <tr>\n",
       "      <th>3</th>\n",
       "      <td>J15430227-3444059</td>\n",
       "      <td>NaN</td>\n",
       "      <td>NaN</td>\n",
       "      <td>NaN</td>\n",
       "    </tr>\n",
       "    <tr>\n",
       "      <th>4</th>\n",
       "      <td>J15445789-3423392</td>\n",
       "      <td>2980.0</td>\n",
       "      <td>0.020</td>\n",
       "      <td>-4.073</td>\n",
       "    </tr>\n",
       "    <tr>\n",
       "      <th>...</th>\n",
       "      <td>...</td>\n",
       "      <td>...</td>\n",
       "      <td>...</td>\n",
       "      <td>...</td>\n",
       "    </tr>\n",
       "    <tr>\n",
       "      <th>886</th>\n",
       "      <td>Haas 17</td>\n",
       "      <td>NaN</td>\n",
       "      <td>NaN</td>\n",
       "      <td>NaN</td>\n",
       "    </tr>\n",
       "    <tr>\n",
       "      <th>887</th>\n",
       "      <td>LS-RCrA 1</td>\n",
       "      <td>NaN</td>\n",
       "      <td>NaN</td>\n",
       "      <td>NaN</td>\n",
       "    </tr>\n",
       "    <tr>\n",
       "      <th>888</th>\n",
       "      <td>G09 CrA-9</td>\n",
       "      <td>NaN</td>\n",
       "      <td>NaN</td>\n",
       "      <td>NaN</td>\n",
       "    </tr>\n",
       "    <tr>\n",
       "      <th>889</th>\n",
       "      <td>S CrA S</td>\n",
       "      <td>NaN</td>\n",
       "      <td>NaN</td>\n",
       "      <td>NaN</td>\n",
       "    </tr>\n",
       "    <tr>\n",
       "      <th>890</th>\n",
       "      <td>CrA-45 W</td>\n",
       "      <td>NaN</td>\n",
       "      <td>NaN</td>\n",
       "      <td>NaN</td>\n",
       "    </tr>\n",
       "  </tbody>\n",
       "</table>\n",
       "<p>891 rows × 4 columns</p>\n",
       "</div>"
      ],
      "text/plain": [
       "                  Star    Teff  Lstar  logLacc\n",
       "0                 Sz65  4020.0  0.869   -2.580\n",
       "1                 Sz66  3410.0  0.216   -1.767\n",
       "2    J15430131-3409153     NaN    NaN      NaN\n",
       "3    J15430227-3444059     NaN    NaN      NaN\n",
       "4    J15445789-3423392  2980.0  0.020   -4.073\n",
       "..                 ...     ...    ...      ...\n",
       "886            Haas 17     NaN    NaN      NaN\n",
       "887          LS-RCrA 1     NaN    NaN      NaN\n",
       "888          G09 CrA-9     NaN    NaN      NaN\n",
       "889            S CrA S     NaN    NaN      NaN\n",
       "890           CrA-45 W     NaN    NaN      NaN\n",
       "\n",
       "[891 rows x 4 columns]"
      ]
     },
     "execution_count": 4,
     "metadata": {},
     "output_type": "execute_result"
    }
   ],
   "source": [
    "starsmeasurements"
   ]
  },
  {
   "cell_type": "code",
   "execution_count": 5,
   "id": "efa78bb2",
   "metadata": {},
   "outputs": [
    {
     "data": {
      "text/html": [
       "<div>\n",
       "<style scoped>\n",
       "    .dataframe tbody tr th:only-of-type {\n",
       "        vertical-align: middle;\n",
       "    }\n",
       "\n",
       "    .dataframe tbody tr th {\n",
       "        vertical-align: top;\n",
       "    }\n",
       "\n",
       "    .dataframe thead th {\n",
       "        text-align: right;\n",
       "    }\n",
       "</style>\n",
       "<table border=\"1\" class=\"dataframe\">\n",
       "  <thead>\n",
       "    <tr style=\"text-align: right;\">\n",
       "      <th></th>\n",
       "      <th>Star</th>\n",
       "      <th>Mstar_B15</th>\n",
       "      <th>logMacc_B15</th>\n",
       "    </tr>\n",
       "  </thead>\n",
       "  <tbody>\n",
       "    <tr>\n",
       "      <th>0</th>\n",
       "      <td>Sz65</td>\n",
       "      <td>0.661</td>\n",
       "      <td>-9.516</td>\n",
       "    </tr>\n",
       "    <tr>\n",
       "      <th>1</th>\n",
       "      <td>Sz66</td>\n",
       "      <td>0.291</td>\n",
       "      <td>-8.508</td>\n",
       "    </tr>\n",
       "    <tr>\n",
       "      <th>2</th>\n",
       "      <td>J15430131-3409153</td>\n",
       "      <td>NaN</td>\n",
       "      <td>NaN</td>\n",
       "    </tr>\n",
       "    <tr>\n",
       "      <th>3</th>\n",
       "      <td>J15430227-3444059</td>\n",
       "      <td>NaN</td>\n",
       "      <td>NaN</td>\n",
       "    </tr>\n",
       "    <tr>\n",
       "      <th>4</th>\n",
       "      <td>J15445789-3423392</td>\n",
       "      <td>0.087</td>\n",
       "      <td>-10.680</td>\n",
       "    </tr>\n",
       "    <tr>\n",
       "      <th>...</th>\n",
       "      <td>...</td>\n",
       "      <td>...</td>\n",
       "      <td>...</td>\n",
       "    </tr>\n",
       "    <tr>\n",
       "      <th>886</th>\n",
       "      <td>Haas 17</td>\n",
       "      <td>NaN</td>\n",
       "      <td>NaN</td>\n",
       "    </tr>\n",
       "    <tr>\n",
       "      <th>887</th>\n",
       "      <td>LS-RCrA 1</td>\n",
       "      <td>NaN</td>\n",
       "      <td>NaN</td>\n",
       "    </tr>\n",
       "    <tr>\n",
       "      <th>888</th>\n",
       "      <td>G09 CrA-9</td>\n",
       "      <td>NaN</td>\n",
       "      <td>NaN</td>\n",
       "    </tr>\n",
       "    <tr>\n",
       "      <th>889</th>\n",
       "      <td>S CrA S</td>\n",
       "      <td>NaN</td>\n",
       "      <td>NaN</td>\n",
       "    </tr>\n",
       "    <tr>\n",
       "      <th>890</th>\n",
       "      <td>CrA-45 W</td>\n",
       "      <td>NaN</td>\n",
       "      <td>NaN</td>\n",
       "    </tr>\n",
       "  </tbody>\n",
       "</table>\n",
       "<p>891 rows × 3 columns</p>\n",
       "</div>"
      ],
      "text/plain": [
       "                  Star  Mstar_B15  logMacc_B15\n",
       "0                 Sz65      0.661       -9.516\n",
       "1                 Sz66      0.291       -8.508\n",
       "2    J15430131-3409153        NaN          NaN\n",
       "3    J15430227-3444059        NaN          NaN\n",
       "4    J15445789-3423392      0.087      -10.680\n",
       "..                 ...        ...          ...\n",
       "886            Haas 17        NaN          NaN\n",
       "887          LS-RCrA 1        NaN          NaN\n",
       "888          G09 CrA-9        NaN          NaN\n",
       "889            S CrA S        NaN          NaN\n",
       "890           CrA-45 W        NaN          NaN\n",
       "\n",
       "[891 rows x 3 columns]"
      ]
     },
     "execution_count": 5,
     "metadata": {},
     "output_type": "execute_result"
    }
   ],
   "source": [
    "starsmodel1"
   ]
  },
  {
   "cell_type": "code",
   "execution_count": 6,
   "id": "baaa387f",
   "metadata": {},
   "outputs": [
    {
     "data": {
      "text/html": [
       "<div>\n",
       "<style scoped>\n",
       "    .dataframe tbody tr th:only-of-type {\n",
       "        vertical-align: middle;\n",
       "    }\n",
       "\n",
       "    .dataframe tbody tr th {\n",
       "        vertical-align: top;\n",
       "    }\n",
       "\n",
       "    .dataframe thead th {\n",
       "        text-align: right;\n",
       "    }\n",
       "</style>\n",
       "<table border=\"1\" class=\"dataframe\">\n",
       "  <thead>\n",
       "    <tr style=\"text-align: right;\">\n",
       "      <th></th>\n",
       "      <th>Star</th>\n",
       "      <th>Mstar_S00</th>\n",
       "      <th>logMacc_S00</th>\n",
       "    </tr>\n",
       "  </thead>\n",
       "  <tbody>\n",
       "    <tr>\n",
       "      <th>0</th>\n",
       "      <td>Sz65</td>\n",
       "      <td>0.7250</td>\n",
       "      <td>-9.556</td>\n",
       "    </tr>\n",
       "    <tr>\n",
       "      <th>1</th>\n",
       "      <td>Sz66</td>\n",
       "      <td>0.3125</td>\n",
       "      <td>-8.538</td>\n",
       "    </tr>\n",
       "    <tr>\n",
       "      <th>2</th>\n",
       "      <td>J15430131-3409153</td>\n",
       "      <td>NaN</td>\n",
       "      <td>NaN</td>\n",
       "    </tr>\n",
       "    <tr>\n",
       "      <th>3</th>\n",
       "      <td>J15430227-3444059</td>\n",
       "      <td>NaN</td>\n",
       "      <td>NaN</td>\n",
       "    </tr>\n",
       "    <tr>\n",
       "      <th>4</th>\n",
       "      <td>J15445789-3423392</td>\n",
       "      <td>0.1000</td>\n",
       "      <td>-10.740</td>\n",
       "    </tr>\n",
       "    <tr>\n",
       "      <th>...</th>\n",
       "      <td>...</td>\n",
       "      <td>...</td>\n",
       "      <td>...</td>\n",
       "    </tr>\n",
       "    <tr>\n",
       "      <th>886</th>\n",
       "      <td>Haas 17</td>\n",
       "      <td>NaN</td>\n",
       "      <td>NaN</td>\n",
       "    </tr>\n",
       "    <tr>\n",
       "      <th>887</th>\n",
       "      <td>LS-RCrA 1</td>\n",
       "      <td>NaN</td>\n",
       "      <td>NaN</td>\n",
       "    </tr>\n",
       "    <tr>\n",
       "      <th>888</th>\n",
       "      <td>G09 CrA-9</td>\n",
       "      <td>NaN</td>\n",
       "      <td>NaN</td>\n",
       "    </tr>\n",
       "    <tr>\n",
       "      <th>889</th>\n",
       "      <td>S CrA S</td>\n",
       "      <td>NaN</td>\n",
       "      <td>NaN</td>\n",
       "    </tr>\n",
       "    <tr>\n",
       "      <th>890</th>\n",
       "      <td>CrA-45 W</td>\n",
       "      <td>NaN</td>\n",
       "      <td>NaN</td>\n",
       "    </tr>\n",
       "  </tbody>\n",
       "</table>\n",
       "<p>891 rows × 3 columns</p>\n",
       "</div>"
      ],
      "text/plain": [
       "                  Star  Mstar_S00  logMacc_S00\n",
       "0                 Sz65     0.7250       -9.556\n",
       "1                 Sz66     0.3125       -8.538\n",
       "2    J15430131-3409153        NaN          NaN\n",
       "3    J15430227-3444059        NaN          NaN\n",
       "4    J15445789-3423392     0.1000      -10.740\n",
       "..                 ...        ...          ...\n",
       "886            Haas 17        NaN          NaN\n",
       "887          LS-RCrA 1        NaN          NaN\n",
       "888          G09 CrA-9        NaN          NaN\n",
       "889            S CrA S        NaN          NaN\n",
       "890           CrA-45 W        NaN          NaN\n",
       "\n",
       "[891 rows x 3 columns]"
      ]
     },
     "execution_count": 6,
     "metadata": {},
     "output_type": "execute_result"
    }
   ],
   "source": [
    "starsmodel2"
   ]
  },
  {
   "cell_type": "code",
   "execution_count": 7,
   "id": "c8f68da2",
   "metadata": {},
   "outputs": [
    {
     "data": {
      "text/html": [
       "<div>\n",
       "<style scoped>\n",
       "    .dataframe tbody tr th:only-of-type {\n",
       "        vertical-align: middle;\n",
       "    }\n",
       "\n",
       "    .dataframe tbody tr th {\n",
       "        vertical-align: top;\n",
       "    }\n",
       "\n",
       "    .dataframe thead th {\n",
       "        text-align: right;\n",
       "    }\n",
       "</style>\n",
       "<table border=\"1\" class=\"dataframe\">\n",
       "  <thead>\n",
       "    <tr style=\"text-align: right;\">\n",
       "      <th></th>\n",
       "      <th>Star</th>\n",
       "      <th>Mstar_Fei</th>\n",
       "      <th>logMacc_Fei</th>\n",
       "    </tr>\n",
       "  </thead>\n",
       "  <tbody>\n",
       "    <tr>\n",
       "      <th>0</th>\n",
       "      <td>Sz65</td>\n",
       "      <td>0.61</td>\n",
       "      <td>-9.48</td>\n",
       "    </tr>\n",
       "    <tr>\n",
       "      <th>1</th>\n",
       "      <td>Sz66</td>\n",
       "      <td>0.31</td>\n",
       "      <td>-8.54</td>\n",
       "    </tr>\n",
       "    <tr>\n",
       "      <th>2</th>\n",
       "      <td>J15430131-3409153</td>\n",
       "      <td>NaN</td>\n",
       "      <td>NaN</td>\n",
       "    </tr>\n",
       "    <tr>\n",
       "      <th>3</th>\n",
       "      <td>J15430227-3444059</td>\n",
       "      <td>NaN</td>\n",
       "      <td>NaN</td>\n",
       "    </tr>\n",
       "    <tr>\n",
       "      <th>4</th>\n",
       "      <td>J15445789-3423392</td>\n",
       "      <td>0.09</td>\n",
       "      <td>-10.70</td>\n",
       "    </tr>\n",
       "    <tr>\n",
       "      <th>...</th>\n",
       "      <td>...</td>\n",
       "      <td>...</td>\n",
       "      <td>...</td>\n",
       "    </tr>\n",
       "    <tr>\n",
       "      <th>886</th>\n",
       "      <td>Haas 17</td>\n",
       "      <td>NaN</td>\n",
       "      <td>NaN</td>\n",
       "    </tr>\n",
       "    <tr>\n",
       "      <th>887</th>\n",
       "      <td>LS-RCrA 1</td>\n",
       "      <td>NaN</td>\n",
       "      <td>NaN</td>\n",
       "    </tr>\n",
       "    <tr>\n",
       "      <th>888</th>\n",
       "      <td>G09 CrA-9</td>\n",
       "      <td>NaN</td>\n",
       "      <td>NaN</td>\n",
       "    </tr>\n",
       "    <tr>\n",
       "      <th>889</th>\n",
       "      <td>S CrA S</td>\n",
       "      <td>NaN</td>\n",
       "      <td>NaN</td>\n",
       "    </tr>\n",
       "    <tr>\n",
       "      <th>890</th>\n",
       "      <td>CrA-45 W</td>\n",
       "      <td>NaN</td>\n",
       "      <td>NaN</td>\n",
       "    </tr>\n",
       "  </tbody>\n",
       "</table>\n",
       "<p>891 rows × 3 columns</p>\n",
       "</div>"
      ],
      "text/plain": [
       "                  Star  Mstar_Fei  logMacc_Fei\n",
       "0                 Sz65       0.61        -9.48\n",
       "1                 Sz66       0.31        -8.54\n",
       "2    J15430131-3409153        NaN          NaN\n",
       "3    J15430227-3444059        NaN          NaN\n",
       "4    J15445789-3423392       0.09       -10.70\n",
       "..                 ...        ...          ...\n",
       "886            Haas 17        NaN          NaN\n",
       "887          LS-RCrA 1        NaN          NaN\n",
       "888          G09 CrA-9        NaN          NaN\n",
       "889            S CrA S        NaN          NaN\n",
       "890           CrA-45 W        NaN          NaN\n",
       "\n",
       "[891 rows x 3 columns]"
      ]
     },
     "execution_count": 7,
     "metadata": {},
     "output_type": "execute_result"
    }
   ],
   "source": [
    "starsmodel3"
   ]
  },
  {
   "cell_type": "code",
   "execution_count": 8,
   "id": "941284a9",
   "metadata": {},
   "outputs": [
    {
     "data": {
      "text/html": [
       "<div>\n",
       "<style scoped>\n",
       "    .dataframe tbody tr th:only-of-type {\n",
       "        vertical-align: middle;\n",
       "    }\n",
       "\n",
       "    .dataframe tbody tr th {\n",
       "        vertical-align: top;\n",
       "    }\n",
       "\n",
       "    .dataframe thead th {\n",
       "        text-align: right;\n",
       "    }\n",
       "</style>\n",
       "<table border=\"1\" class=\"dataframe\">\n",
       "  <thead>\n",
       "    <tr style=\"text-align: right;\">\n",
       "      <th></th>\n",
       "      <th>Star</th>\n",
       "      <th>Mstar_final</th>\n",
       "      <th>logMacc_final</th>\n",
       "    </tr>\n",
       "  </thead>\n",
       "  <tbody>\n",
       "    <tr>\n",
       "      <th>0</th>\n",
       "      <td>Sz65</td>\n",
       "      <td>0.610</td>\n",
       "      <td>-9.480</td>\n",
       "    </tr>\n",
       "    <tr>\n",
       "      <th>1</th>\n",
       "      <td>Sz66</td>\n",
       "      <td>0.291</td>\n",
       "      <td>-8.508</td>\n",
       "    </tr>\n",
       "    <tr>\n",
       "      <th>2</th>\n",
       "      <td>J15430131-3409153</td>\n",
       "      <td>NaN</td>\n",
       "      <td>NaN</td>\n",
       "    </tr>\n",
       "    <tr>\n",
       "      <th>3</th>\n",
       "      <td>J15430227-3444059</td>\n",
       "      <td>NaN</td>\n",
       "      <td>NaN</td>\n",
       "    </tr>\n",
       "    <tr>\n",
       "      <th>4</th>\n",
       "      <td>J15445789-3423392</td>\n",
       "      <td>0.087</td>\n",
       "      <td>-10.680</td>\n",
       "    </tr>\n",
       "    <tr>\n",
       "      <th>...</th>\n",
       "      <td>...</td>\n",
       "      <td>...</td>\n",
       "      <td>...</td>\n",
       "    </tr>\n",
       "    <tr>\n",
       "      <th>886</th>\n",
       "      <td>Haas 17</td>\n",
       "      <td>NaN</td>\n",
       "      <td>NaN</td>\n",
       "    </tr>\n",
       "    <tr>\n",
       "      <th>887</th>\n",
       "      <td>LS-RCrA 1</td>\n",
       "      <td>NaN</td>\n",
       "      <td>NaN</td>\n",
       "    </tr>\n",
       "    <tr>\n",
       "      <th>888</th>\n",
       "      <td>G09 CrA-9</td>\n",
       "      <td>NaN</td>\n",
       "      <td>NaN</td>\n",
       "    </tr>\n",
       "    <tr>\n",
       "      <th>889</th>\n",
       "      <td>S CrA S</td>\n",
       "      <td>NaN</td>\n",
       "      <td>NaN</td>\n",
       "    </tr>\n",
       "    <tr>\n",
       "      <th>890</th>\n",
       "      <td>CrA-45 W</td>\n",
       "      <td>NaN</td>\n",
       "      <td>NaN</td>\n",
       "    </tr>\n",
       "  </tbody>\n",
       "</table>\n",
       "<p>891 rows × 3 columns</p>\n",
       "</div>"
      ],
      "text/plain": [
       "                  Star  Mstar_final  logMacc_final\n",
       "0                 Sz65        0.610         -9.480\n",
       "1                 Sz66        0.291         -8.508\n",
       "2    J15430131-3409153          NaN            NaN\n",
       "3    J15430227-3444059          NaN            NaN\n",
       "4    J15445789-3423392        0.087        -10.680\n",
       "..                 ...          ...            ...\n",
       "886            Haas 17          NaN            NaN\n",
       "887          LS-RCrA 1          NaN            NaN\n",
       "888          G09 CrA-9          NaN            NaN\n",
       "889            S CrA S          NaN            NaN\n",
       "890           CrA-45 W          NaN            NaN\n",
       "\n",
       "[891 rows x 3 columns]"
      ]
     },
     "execution_count": 8,
     "metadata": {},
     "output_type": "execute_result"
    }
   ],
   "source": [
    "starsmodel4"
   ]
  },
  {
   "cell_type": "code",
   "execution_count": 9,
   "id": "cdd18457",
   "metadata": {},
   "outputs": [],
   "source": [
    "Lstar = starsmeasurements['Lstar']\n",
    "mstar1 = starsmodel1['Mstar_B15']\n",
    "mstar2 = starsmodel2['Mstar_S00']\n",
    "mstar3 = starsmodel3['Mstar_Fei']\n",
    "mstar4 = starsmodel4['Mstar_final']\n",
    "Teff = starsmeasurements['Teff']"
   ]
  },
  {
   "cell_type": "code",
   "execution_count": 10,
   "id": "7fb621c3",
   "metadata": {},
   "outputs": [],
   "source": [
    "region = starsinfo['Region']\n",
    "starsmeasurements['Region'] = region\n",
    "starsmeasurements['mstar1'] = mstar1\n",
    "starsmeasurements['mstar2'] = mstar2\n",
    "starsmeasurements['mstar3'] = mstar3\n",
    "starsmeasurements['mstar4'] = mstar4"
   ]
  },
  {
   "cell_type": "code",
   "execution_count": 11,
   "id": "92c4e18c",
   "metadata": {},
   "outputs": [
    {
     "data": {
      "text/plain": [
       "Text(0.5, 0, 'Luminocity')"
      ]
     },
     "execution_count": 11,
     "metadata": {},
     "output_type": "execute_result"
    },
    {
     "data": {
      "image/png": "[encoded data removed]",
      "text/plain": [
       "<Figure size 432x288 with 4 Axes>"
      ]
     },
     "metadata": {
      "needs_background": "light"
     },
     "output_type": "display_data"
    }
   ],
   "source": [
    "fig = plt.figure()\n",
    "axes1 = fig.add_subplot(2, 2, 1)\n",
    "axes2 = fig.add_subplot(2, 2, 2)\n",
    "axes3 = fig.add_subplot(2, 2, 3)\n",
    "axes4 = fig.add_subplot(2, 2, 4)\n",
    "\n",
    "axes1.plot(Lstar, mstar1, 'o')\n",
    "axes2.plot(Lstar, mstar2, 'o')\n",
    "axes3.plot(Lstar, mstar3, 'o')\n",
    "axes4.plot(Lstar, mstar4, 'o')\n",
    "\n",
    "axes1.set_title(\"Mstar1 vs Lstar\")\n",
    "axes2.set_title(\"Mstar2 vs Lstar\")\n",
    "axes3.set_title(\"Mstar3 vs Lstar\")\n",
    "axes4.set_title(\"Mstar4 vs Lstar\")\n",
    "\n",
    "axes1.set_ylabel('Mass')\n",
    "#axes1.set_xlabel('Mass')\n",
    "\n",
    "#axes2.set_ylabel('Luminocity')\n",
    "#axes2.set_xlabel('Mass')\n",
    "\n",
    "axes3.set_ylabel('Mass')\n",
    "axes3.set_xlabel('Luminocity')\n",
    "\n",
    "#axes4.set_ylabel('Luminocity')\n",
    "axes4.set_xlabel('Luminocity')"
   ]
  },
  {
   "cell_type": "code",
   "execution_count": 12,
   "id": "2a0c13c0",
   "metadata": {},
   "outputs": [
    {
     "data": {
      "text/plain": [
       "Text(0.5, 0, 'Temperature')"
      ]
     },
     "execution_count": 12,
     "metadata": {},
     "output_type": "execute_result"
    },
    {
     "data": {
      "image/png": "[encoded data removed]",
      "text/plain": [
       "<Figure size 432x288 with 4 Axes>"
      ]
     },
     "metadata": {
      "needs_background": "light"
     },
     "output_type": "display_data"
    }
   ],
   "source": [
    "fig2 = plt.figure()\n",
    "axes1 = fig2.add_subplot(2, 2, 1)\n",
    "axes2 = fig2.add_subplot(2, 2, 2)\n",
    "axes3 = fig2.add_subplot(2, 2, 3)\n",
    "axes4 = fig2.add_subplot(2, 2, 4)\n",
    "\n",
    "axes1.plot(Teff, mstar1, 'o')\n",
    "axes2.plot(Teff, mstar2, 'o')\n",
    "axes3.plot(Teff, mstar3, 'o')\n",
    "axes4.plot(Teff, mstar4, 'o')\n",
    "\n",
    "axes1.set_title(\"Mstar1 vs Teff\")\n",
    "axes2.set_title(\"Mstar2 vs Teff\")\n",
    "axes3.set_title(\"Mstar3 vs Teff\")\n",
    "axes4.set_title(\"Mstar4 vs Teff\")\n",
    "\n",
    "axes1.set_ylabel('Mass')\n",
    "#axes1.set_xlabel('Mass')\n",
    "\n",
    "#axes2.set_ylabel('Temperature')\n",
    "#axes2.set_xlabel('Mass')\n",
    "\n",
    "axes3.set_ylabel('Mass')\n",
    "axes3.set_xlabel('Temperature')\n",
    "\n",
    "#axes4.set_ylabel('Temperature')\n",
    "axes4.set_xlabel('Temperature')"
   ]
  },
  {
   "cell_type": "code",
   "execution_count": 13,
   "id": "aa1b6b6b",
   "metadata": {},
   "outputs": [
    {
     "data": {
      "text/plain": [
       "<function matplotlib.pyplot.show(close=None, block=None)>"
      ]
     },
     "execution_count": 13,
     "metadata": {},
     "output_type": "execute_result"
    },
    {
     "data": {
      "image/png": "[encoded data removed]",
      "text/plain": [
       "<Figure size 432x288 with 1 Axes>"
      ]
     },
     "metadata": {
      "needs_background": "light"
     },
     "output_type": "display_data"
    }
   ],
   "source": [
    "fig3 = plt.gcf()\n",
    "sns.scatterplot(data = starsmeasurements, x = \"Teff\", y = 'mstar1', hue = 'Region')\n",
    "plt.show"
   ]
  },
  {
   "cell_type": "code",
   "execution_count": 14,
   "id": "4c5f1e77",
   "metadata": {},
   "outputs": [
    {
     "data": {
      "text/plain": [
       "<function matplotlib.pyplot.show(close=None, block=None)>"
      ]
     },
     "execution_count": 14,
     "metadata": {},
     "output_type": "execute_result"
    },
    {
     "data": {
      "image/png": "[encoded data removed]",
      "text/plain": [
       "<Figure size 432x288 with 1 Axes>"
      ]
     },
     "metadata": {
      "needs_background": "light"
     },
     "output_type": "display_data"
    }
   ],
   "source": [
    "fig4 = plt.gcf()\n",
    "sns.scatterplot(data = starsmeasurements, x = \"Teff\", y = 'mstar2', hue = 'Region')\n",
    "plt.show"
   ]
  },
  {
   "cell_type": "code",
   "execution_count": 15,
   "id": "a83d52f4",
   "metadata": {},
   "outputs": [
    {
     "data": {
      "text/plain": [
       "<function matplotlib.pyplot.show(close=None, block=None)>"
      ]
     },
     "execution_count": 15,
     "metadata": {},
     "output_type": "execute_result"
    },
    {
     "data": {
      "image/png": "[encoded data removed]",
      "text/plain": [
       "<Figure size 432x288 with 1 Axes>"
      ]
     },
     "metadata": {
      "needs_background": "light"
     },
     "output_type": "display_data"
    }
   ],
   "source": [
    "fig5 = plt.gcf()\n",
    "sns.scatterplot(data = starsmeasurements, x = \"Teff\", y = 'mstar3', hue = 'Region')\n",
    "plt.show"
   ]
  },
  {
   "cell_type": "code",
   "execution_count": 16,
   "id": "03c2316e",
   "metadata": {},
   "outputs": [
    {
     "data": {
      "text/plain": [
       "<function matplotlib.pyplot.show(close=None, block=None)>"
      ]
     },
     "execution_count": 16,
     "metadata": {},
     "output_type": "execute_result"
    },
    {
     "data": {
      "image/png": "[encoded data removed]",
      "text/plain": [
       "<Figure size 432x288 with 1 Axes>"
      ]
     },
     "metadata": {
      "needs_background": "light"
     },
     "output_type": "display_data"
    }
   ],
   "source": [
    "fig6 = plt.gcf()\n",
    "sns.scatterplot(data = starsmeasurements, x = \"Teff\", y = 'mstar4', hue = 'Region')\n",
    "plt.show"
   ]
  },
  {
   "cell_type": "code",
   "execution_count": 17,
   "id": "d519f82b",
   "metadata": {},
   "outputs": [
    {
     "data": {
      "text/plain": [
       "<function matplotlib.pyplot.show(close=None, block=None)>"
      ]
     },
     "execution_count": 17,
     "metadata": {},
     "output_type": "execute_result"
    },
    {
     "data": {
      "image/png": "[encoded data removed]",
      "text/plain": [
       "<Figure size 432x288 with 1 Axes>"
      ]
     },
     "metadata": {
      "needs_background": "light"
     },
     "output_type": "display_data"
    }
   ],
   "source": [
    "fig7 = plt.gcf()\n",
    "sns.scatterplot(data = starsmeasurements, x = \"Lstar\", y = 'mstar1', hue = 'Region')\n",
    "plt.show"
   ]
  },
  {
   "cell_type": "code",
   "execution_count": 18,
   "id": "3cc63b15",
   "metadata": {},
   "outputs": [
    {
     "data": {
      "text/plain": [
       "<function matplotlib.pyplot.show(close=None, block=None)>"
      ]
     },
     "execution_count": 18,
     "metadata": {},
     "output_type": "execute_result"
    },
    {
     "data": {
      "image/png": "[encoded data removed]",
      "text/plain": [
       "<Figure size 432x288 with 1 Axes>"
      ]
     },
     "metadata": {
      "needs_background": "light"
     },
     "output_type": "display_data"
    }
   ],
   "source": [
    "fig8 = plt.gcf()\n",
    "sns.scatterplot(data = starsmeasurements, x = \"Lstar\", y = 'mstar2', hue = 'Region')\n",
    "plt.show"
   ]
  },
  {
   "cell_type": "code",
   "execution_count": 19,
   "id": "f985dc8c",
   "metadata": {},
   "outputs": [
    {
     "data": {
      "text/plain": [
       "<function matplotlib.pyplot.show(close=None, block=None)>"
      ]
     },
     "execution_count": 19,
     "metadata": {},
     "output_type": "execute_result"
    },
    {
     "data": {
      "image/png": "[encoded data removed]",
      "text/plain": [
       "<Figure size 432x288 with 1 Axes>"
      ]
     },
     "metadata": {
      "needs_background": "light"
     },
     "output_type": "display_data"
    }
   ],
   "source": [
    "fig9 = plt.gcf()\n",
    "sns.scatterplot(data = starsmeasurements, x = \"Lstar\", y = 'mstar3', hue = 'Region')\n",
    "plt.show"
   ]
  },
  {
   "cell_type": "code",
   "execution_count": 20,
   "id": "10848915",
   "metadata": {},
   "outputs": [
    {
     "data": {
      "text/plain": [
       "<function matplotlib.pyplot.show(close=None, block=None)>"
      ]
     },
     "execution_count": 20,
     "metadata": {},
     "output_type": "execute_result"
    },
    {
     "data": {
      "image/png": "[encoded data removed]",
      "text/plain": [
       "<Figure size 432x288 with 1 Axes>"
      ]
     },
     "metadata": {
      "needs_background": "light"
     },
     "output_type": "display_data"
    }
   ],
   "source": [
    "fig10 = plt.gcf()\n",
    "sns.scatterplot(data = starsmeasurements, x = \"Lstar\", y = 'mstar4', hue = 'Region')\n",
    "plt.show"
   ]
  },
  {
   "cell_type": "code",
   "execution_count": null,
   "id": "24d7bd84",
   "metadata": {},
   "outputs": [],
   "source": []
  }
 ],
 "metadata": {
  "kernelspec": {
   "display_name": "Python 3 (ipykernel)",
   "language": "python",
   "name": "python3"
  },
  "language_info": {
   "codemirror_mode": {
    "name": "ipython",
    "version": 3
   },
   "file_extension": ".py",
   "mimetype": "text/x-python",
   "name": "python",
   "nbconvert_exporter": "python",
   "pygments_lexer": "ipython3",
   "version": "3.9.7"
  }
 },
 "nbformat": 4,
 "nbformat_minor": 5
}
