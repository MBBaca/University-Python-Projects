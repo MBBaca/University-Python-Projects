{
 "cells": [
  {
   "cell_type": "code",
   "execution_count": null,
   "metadata": {
    "scrolled": true
   },
   "outputs": [],
   "source": [
    "from vpython import *\n",
    "canvas()"
   ]
  },
  {
   "cell_type": "code",
   "execution_count": null,
   "metadata": {},
   "outputs": [],
   "source": [
    "#Constants\n",
    "\n",
    "r = .037 #meters radius of ball\n",
    "m = .145 #kg mass of ball\n",
    "C = .3 #drag coefficient\n",
    "p = 1.2 #kg/m^3 density of air\n",
    "g = 9.81 #m/s^2 acceleration due to gravity\n",
    "theta_0 = .7854 #radians = (45 degrees) and the optimal hit angle for baseballs\n",
    "ball_area = (4 * pi * r**2) / 2 #Surface area of the ball that's in contact with the air\n",
    "a = [8, 9, 10, 11, 12, 13, 14] #ages in years\n",
    "velocity = [17.88, 19.22, 20.56, 21.46, 22.35, 24.14, 26.82] #corresponding velocity of ball to age in m/s\n",
    "height = [1.14, 1.24, 1.30, 1.32, 1.47, 1.57, 1.6] #the height of the release of the ball in meteres\n",
    "experimental = [28.956, 32.00, 37.49, 41.15, 42.98, 49.99, 59.74] #the corresponding distances the ball travels on average per age"
   ]
  },
  {
   "cell_type": "code",
   "execution_count": null,
   "metadata": {},
   "outputs": [],
   "source": [
    "ground = box(pos = vector(40, -1, 0) ,\n",
    "             size = vector(80, 2, 10) , \n",
    "             texture = \"https://i.imgur.com/xZqEj7C.jpg\")\n",
    "  "
   ]
  },
  {
   "cell_type": "code",
   "execution_count": null,
   "metadata": {},
   "outputs": [],
   "source": [
    "# This loop simulates and calculates the ball thrown for every age 8-14, the white ball is the one with air resistance\n",
    "# and the yellow one is the one in the vaccum, without air resistance.\n",
    "for i in range(6):\n",
    "    v = velocity[i]\n",
    "    h = height[i]\n",
    "\n",
    "    ball1 = sphere(pos= vector(0, h, 0),\n",
    "                radius = r * 20,   #used a scale factor because the ball wont be seen with actual radius\n",
    "                vel = vector(v * sin(theta_0), v * cos(theta_0), 0),  \n",
    "                mass = m,                                  \n",
    "                texture = \"data:image/jpeg;base64,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\",\n",
    "                make_trail = True)\n",
    "    ball2 = sphere(pos= vector(0, h, 0),\n",
    "                radius = r * 20,    #used a scale factor because the ball wont be seen with actual radius\n",
    "                vel = vector(v * sin(theta_0), v * cos(theta_0), 0),  \n",
    "                mass = m,                                  \n",
    "                texture = \"data:image/jpeg;base64,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\",\n",
    "                color = color.yellow,\n",
    "                make_trail = True)\n",
    "    \n",
    "    t = 0\n",
    "    dt = .001\n",
    "    \n",
    "    while (ball1.pos.y - r) > 0:\n",
    "        rate(1000)\n",
    "\n",
    "        F_drag_x = .5 * C * ball_area * p * ball1.vel.x**2\n",
    "        F_drag_y = .5 * C * ball_area * p * ball1.vel.y**2\n",
    "        F_gravity = m * g\n",
    "\n",
    "        F_net_ball_1_x = -F_drag_x\n",
    "        F_net_ball_1_y = -F_drag_y - F_gravity\n",
    "\n",
    "\n",
    "        ball1_acc_x = F_net_ball_1_x / m\n",
    "        ball1_acc_y = F_net_ball_1_y / m\n",
    "\n",
    "\n",
    "        ball1.vel.x = ball1.vel.x + ball1_acc_x * dt\n",
    "        ball1.vel.y = ball1.vel.y + ball1_acc_y * dt\n",
    "\n",
    "\n",
    "        ball1.pos = ball1.pos + ball1.vel * dt\n",
    "        \n",
    "        t = t + dt\n",
    "\n",
    "    \n",
    "    print('For a ball thrown by boys of age:', i + 8 , ', with air resistance, there are the following calculations.')\n",
    "    print('Calculated range in meters: ', ball1.pos.x , 'm.')\n",
    "    print('Experimental range in meters: ', experimental[i] , 'm.')\n",
    "    print('The flight time of the ball in seconds: ', t , ' seconds.')\n",
    "    print('Velocity of the ball before it hits the ground in meters per second: ', ball1.vel.mag , 'm/s.')\n",
    "    print('The angle it hits the floor in degrees: ', (atan(ball1.vel.y/ball1.vel.x) * 180 / pi) , ' degrees to the horizontal.')\n",
    "    print()\n",
    "    \n",
    "    t = 0\n",
    "    \n",
    "    while (ball2.pos.y - r) > 0:\n",
    "        rate(1000)\n",
    "\n",
    "        F_gravity = m * g\n",
    "\n",
    "        F_ball_2_y = -F_gravity\n",
    "\n",
    "        ball_2_acc_y = F_ball_2_y / m\n",
    "\n",
    "        ball2.vel.y = ball2.vel.y + ball_2_acc_y * dt\n",
    "\n",
    "        ball2.pos = ball2.pos + ball2.vel * dt\n",
    "        \n",
    "        t = t + dt\n",
    "        \n",
    "    print('For a ball thrown by boys of age:', i + 8 , ', without air resistance, there are the following calculations.')\n",
    "    print('Calculated range in meters: ', ball2.pos.x , 'm.')\n",
    "    print('Experimental range in meters: ', experimental[i] , 'm.')\n",
    "    print('The flight time of the ball in seconds: ', t , ' seconds.')\n",
    "    print('Velocity of the ball before it hits the ground in meters per second: ', ball2.vel.mag , 'm/s.')\n",
    "    print('The angle it hits the floor in degrees: ', (atan(ball2.vel.y/ball2.vel.x) * 180 / pi) , ' degrees to the horizontal.')\n",
    "    print()\n",
    "    "
   ]
  },
  {
   "cell_type": "code",
   "execution_count": null,
   "metadata": {},
   "outputs": [],
   "source": []
  }
 ],
 "metadata": {
  "kernelspec": {
   "display_name": "Python 3 (ipykernel)",
   "language": "python",
   "name": "python3"
  },
  "language_info": {
   "codemirror_mode": {
    "name": "ipython",
    "version": 3
   },
   "file_extension": ".py",
   "mimetype": "text/x-python",
   "name": "python",
   "nbconvert_exporter": "python",
   "pygments_lexer": "ipython3",
   "version": "3.9.7"
  }
 },
 "nbformat": 4,
 "nbformat_minor": 4
}
