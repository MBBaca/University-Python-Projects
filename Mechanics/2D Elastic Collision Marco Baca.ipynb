{
 "cells": [
  {
   "cell_type": "code",
   "execution_count": 1,
   "metadata": {},
   "outputs": [
    {
     "data": {
      "text/html": [
       "<div id=\"glowscript\" class=\"glowscript\"></div>"
      ],
      "text/plain": [
       "<IPython.core.display.HTML object>"
      ]
     },
     "metadata": {},
     "output_type": "display_data"
    },
    {
     "data": {
      "application/javascript": [
       "if (typeof Jupyter !== \"undefined\") { window.__context = { glowscript_container: $(\"#glowscript\").removeAttr(\"id\")};}else{ element.textContent = ' ';}"
      ],
      "text/plain": [
       "<IPython.core.display.Javascript object>"
      ]
     },
     "metadata": {},
     "output_type": "display_data"
    }
   ],
   "source": [
    "from vpython import *"
   ]
  },
  {
   "cell_type": "code",
   "execution_count": 2,
   "metadata": {},
   "outputs": [
    {
     "name": "stdout",
     "output_type": "stream",
     "text": [
      "Input initial y-coordinate position of ball 1\n",
      ".1\n",
      "Input initial y-coordinate position of ball 2\n",
      ".1\n"
     ]
    }
   ],
   "source": [
    "#Constants\n",
    "\n",
    "m = .1 #kg\n",
    "d = .3 #m\n",
    "A = .3 #Nm^7\n",
    "B = .1 #Nm^5\n",
    "\n",
    "print('Input initial y-coordinate position of ball 1')\n",
    "y_1 = float(input())\n",
    "print('Input initial y-coordinate position of ball 2')\n",
    "y_2 = float(input())"
   ]
  },
  {
   "cell_type": "code",
   "execution_count": 3,
   "metadata": {},
   "outputs": [
    {
     "data": {
      "application/javascript": [
       "if (typeof Jupyter !== \"undefined\") {require.undef(\"nbextensions/vpython_libraries/glow.min\");}else{element.textContent = ' ';}"
      ],
      "text/plain": [
       "<IPython.core.display.Javascript object>"
      ]
     },
     "metadata": {},
     "output_type": "display_data"
    },
    {
     "data": {
      "application/javascript": [
       "if (typeof Jupyter !== \"undefined\") {require.undef(\"nbextensions/vpython_libraries/glowcomm\");}else{element.textContent = ' ';}"
      ],
      "text/plain": [
       "<IPython.core.display.Javascript object>"
      ]
     },
     "metadata": {},
     "output_type": "display_data"
    },
    {
     "data": {
      "application/javascript": [
       "if (typeof Jupyter !== \"undefined\") {require.undef(\"nbextensions/vpython_libraries/jquery-ui.custom.min\");}else{element.textContent = ' ';}"
      ],
      "text/plain": [
       "<IPython.core.display.Javascript object>"
      ]
     },
     "metadata": {},
     "output_type": "display_data"
    },
    {
     "data": {
      "application/javascript": [
       "if (typeof Jupyter !== \"undefined\") {require([\"nbextensions/vpython_libraries/glow.min\"], function(){console.log(\"GLOW LOADED\");});}else{element.textContent = ' ';}"
      ],
      "text/plain": [
       "<IPython.core.display.Javascript object>"
      ]
     },
     "metadata": {},
     "output_type": "display_data"
    },
    {
     "data": {
      "application/javascript": [
       "if (typeof Jupyter !== \"undefined\") {require([\"nbextensions/vpython_libraries/glowcomm\"], function(){console.log(\"GLOWCOMM LOADED\");});}else{element.textContent = ' ';}"
      ],
      "text/plain": [
       "<IPython.core.display.Javascript object>"
      ]
     },
     "metadata": {},
     "output_type": "display_data"
    },
    {
     "data": {
      "application/javascript": [
       "if (typeof Jupyter !== \"undefined\") {require([\"nbextensions/vpython_libraries/jquery-ui.custom.min\"], function(){console.log(\"JQUERY LOADED\");});}else{element.textContent = ' ';}"
      ],
      "text/plain": [
       "<IPython.core.display.Javascript object>"
      ]
     },
     "metadata": {},
     "output_type": "display_data"
    }
   ],
   "source": [
    "#Ball Specifications\n",
    "\n",
    "ball_1 = sphere(color = color.red,\n",
    "              radius = d,\n",
    "              mass = m,\n",
    "              pos = (vector(-5, y_1, 0)),\n",
    "              vel = vector (3, 0, 0))\n",
    "ball_2 = sphere(color = color.blue,\n",
    "             radius = d,\n",
    "             mass = m,\n",
    "             pos = (vector(5, y_2, 0)),\n",
    "             vel = vector(-3, 0, 0))"
   ]
  },
  {
   "cell_type": "code",
   "execution_count": 4,
   "metadata": {},
   "outputs": [],
   "source": [
    "#Graphs\n",
    "\n",
    "graph(xtitle = 'Distance Between Both Balls', ytitle = 'Force Magnitude')\n",
    "F_r_plot = gcurve(color = color.blue, label = 'F of r')\n",
    "\n",
    "graph(xtitle = 'Time', ytitle = 'Force Magnitude')\n",
    "F_r_t_plot = gcurve(color = color.blue, label = 'F of r of t')\n",
    "\n",
    "graph(xtitle = 'Time', ytitle = 'Energy')\n",
    "KE_plot = gcurve(color = color.blue, label = 'Kinetic Energy')\n",
    "PE_plot = gcurve(color = color.red, label = 'Potential Energy')\n",
    "TE_plot = gcurve(color = color.purple, label = 'Total Energy')"
   ]
  },
  {
   "cell_type": "code",
   "execution_count": 5,
   "metadata": {},
   "outputs": [],
   "source": [
    "#Other Constants\n",
    "\n",
    "t = 0 #sec\n",
    "dt = .005 #sec\n",
    "r = r = ball_1.pos - ball_2.pos\n",
    "F = ((A / r.mag**7) - (B / r.mag**5)) * r.hat\n",
    "\n",
    "ball_1_j_i = F * t #Initial impulse of the balls\n",
    "ball_2_j_i = -F * t\n",
    "\n",
    "ball_1_j_f = F * t #Defined before the loop\n",
    "ball_2_j_f = -F * t\n",
    "\n",
    "ball_1_momentum_i = ball_1.vel * ball_1.mass #Initial momentum of the balls\n",
    "ball_2_momentum_i = ball_2.vel * ball_2.mass\n",
    "\n",
    "KE_i = .5 * ball_1.mass * ball_1.vel.mag**2 + .5 * ball_2.mass * ball_2.vel.mag**2 #Intitial Kinetic Energy of the System\n",
    "PE_i = (A / (6 * r.mag**6)) - (B / (4 * r.mag**4)) #Initital Potential Energy of the System\n",
    "TE_i = KE_i + PE_i #Initital Total Mechanical Energy of the System"
   ]
  },
  {
   "cell_type": "code",
   "execution_count": 6,
   "metadata": {},
   "outputs": [],
   "source": [
    "#Loop\n",
    "\n",
    "while t < 5:\n",
    "    rate(50)\n",
    "    r = ball_1.pos - ball_2.pos\n",
    "    F = ((A / r.mag**7) - (B / r.mag**5)) * r.hat\n",
    "    \n",
    "    ball_1_acc = F / ball_1.mass\n",
    "    ball_2_acc = -F / ball_2.mass\n",
    "    \n",
    "    ball_1.vel = ball_1.vel + ball_1_acc * dt\n",
    "    ball_2.vel = ball_2.vel + ball_2_acc * dt\n",
    "    \n",
    "    ball_1.pos = ball_1.pos + ball_1.vel * dt\n",
    "    ball_2.pos = ball_2.pos + ball_2.vel * dt\n",
    "    \n",
    "    ball_1_momentum = ball_1.vel * ball_1.mass\n",
    "    ball_2_momentum = ball_2.vel * ball_2.mass\n",
    "    \n",
    "    cmv = (ball_1_momentum + ball_2_momentum) / (ball_1.mass + ball_2.mass) #Velocity of the Center of Mass\n",
    "    \n",
    "    if mag(ball_1.pos - ball_2.pos) <= (2*d):\n",
    "        ball_1_vrcmi = ball_1.vel - cmv #Velocity Relative to the Center of Mass Initially\n",
    "        ball_2_vrcmi = ball_2.vel - cmv\n",
    "        \n",
    "        ball_1_vrcmf = -ball_1_vrcmi #Velocity Relative to the Center of Mass Final\n",
    "        ball_2_vrcmf = -ball_2_vrcmi\n",
    "        \n",
    "        ball_1.vel = ball_1_vrcmf + cmv #Velocity after the collision between the two balls\n",
    "        ball_2.vel = ball_2_vrcmf + cmv\n",
    "        \n",
    "    ball_1_j_f = ball_1_j_f + F * dt #This sums up the value of the impulse the same way the integral does\n",
    "    ball_2_j_f = ball_2_j_f - F * dt\n",
    "     \n",
    "    KE = .5 * ball_1.mass * ball_1.vel.mag**2 + .5 * ball_2.mass * ball_2.vel.mag**2 # kinetic Energy of the System\n",
    "    PE = (A / (6 * r.mag**6)) - (B / (4 * r.mag**4)) #Potential Energy of the System\n",
    "    TE = KE + PE #Total Mechanical Energy of the System\n",
    "    \n",
    "    F_r_plot.plot(r.mag, F.mag)\n",
    "    F_r_t_plot.plot(t, F.mag)\n",
    "    KE_plot.plot(t, KE)\n",
    "    PE_plot.plot(t, PE)\n",
    "    TE_plot.plot(t, TE)\n",
    "    \n",
    "    t = t + dt"
   ]
  },
  {
   "cell_type": "code",
   "execution_count": null,
   "metadata": {},
   "outputs": [],
   "source": [
    "print('The cange in momentum of ball 1 is: ', ball_1_momentum - ball_1_momentum_i)\n",
    "print('The cange in momentum of ball 2 is: ', ball_2_momentum - ball_2_momentum_i)\n",
    "\n",
    "print('The impulse of ball 1 is: ', ball_1_j_f - ball_1_j_i)\n",
    "print('The impulse of ball 2 is: ', ball_2_j_f - ball_2_j_i)\n",
    "\n",
    "print('The impulse of both balls is equal to the change in momentum of both balls.')\n",
    "\n",
    "print(TE - TE_i) #Change in total energy of the system\n",
    "print('The total energy of the system was conserved, even though there was a very small numerical change, it can be considered negligible since it has to do with small error in the code which can be decreased if dt is decreased.')"
   ]
  },
  {
   "cell_type": "code",
   "execution_count": null,
   "metadata": {},
   "outputs": [],
   "source": []
  }
 ],
 "metadata": {
  "kernelspec": {
   "display_name": "VPython",
   "language": "python",
   "name": "vpython"
  },
  "language_info": {
   "codemirror_mode": {
    "name": "ipython",
    "version": 3
   },
   "file_extension": ".py",
   "mimetype": "text/x-python",
   "name": "python",
   "nbconvert_exporter": "python",
   "pygments_lexer": "ipython3",
   "version": "3.8.5"
  }
 },
 "nbformat": 4,
 "nbformat_minor": 4
}
