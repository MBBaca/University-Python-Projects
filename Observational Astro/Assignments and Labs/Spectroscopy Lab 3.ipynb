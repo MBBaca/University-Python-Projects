{
 "cells": [
  {
   "cell_type": "code",
   "execution_count": 1,
   "id": "0b77c1fc",
   "metadata": {},
   "outputs": [],
   "source": [
    "import math\n",
    "import pandas as pd\n",
    "import numpy as np\n",
    "import matplotlib.pyplot as plt"
   ]
  },
  {
   "cell_type": "code",
   "execution_count": 2,
   "id": "8a23bafd",
   "metadata": {},
   "outputs": [
    {
     "data": {
      "text/html": [
       "<div>\n",
       "<style scoped>\n",
       "    .dataframe tbody tr th:only-of-type {\n",
       "        vertical-align: middle;\n",
       "    }\n",
       "\n",
       "    .dataframe tbody tr th {\n",
       "        vertical-align: top;\n",
       "    }\n",
       "\n",
       "    .dataframe thead th {\n",
       "        text-align: right;\n",
       "    }\n",
       "</style>\n",
       "<table border=\"1\" class=\"dataframe\">\n",
       "  <thead>\n",
       "    <tr style=\"text-align: right;\">\n",
       "      <th></th>\n",
       "      <th>Wavelength</th>\n",
       "      <th>FluxDens1</th>\n",
       "      <th>FluxDens2</th>\n",
       "      <th>r_a</th>\n",
       "      <th>r_b</th>\n",
       "      <th>T_r</th>\n",
       "      <th>N_r</th>\n",
       "      <th>pix</th>\n",
       "      <th>res</th>\n",
       "      <th>dis</th>\n",
       "      <th>Unnamed: 10</th>\n",
       "      <th>Unnamed: 11</th>\n",
       "      <th>Unnamed: 12</th>\n",
       "      <th>Unnamed: 13</th>\n",
       "      <th>Unnamed: 14</th>\n",
       "      <th>Unnamed: 15</th>\n",
       "      <th>Unnamed: 16</th>\n",
       "      <th>Unnamed: 17</th>\n",
       "    </tr>\n",
       "  </thead>\n",
       "  <tbody>\n",
       "    <tr>\n",
       "      <th>0</th>\n",
       "      <td>4.20000</td>\n",
       "      <td>0.000000e+00</td>\n",
       "      <td>0.000000</td>\n",
       "      <td>0.0</td>\n",
       "      <td>5.0</td>\n",
       "      <td>1000.0</td>\n",
       "      <td>1.000000e+16</td>\n",
       "      <td>0.00002</td>\n",
       "      <td>10000.0</td>\n",
       "      <td>140.0</td>\n",
       "      <td>NaN</td>\n",
       "      <td>NaN</td>\n",
       "      <td>NaN</td>\n",
       "      <td>NaN</td>\n",
       "      <td>NaN</td>\n",
       "      <td>NaN</td>\n",
       "      <td>NaN</td>\n",
       "      <td>NaN</td>\n",
       "    </tr>\n",
       "    <tr>\n",
       "      <th>1</th>\n",
       "      <td>4.20002</td>\n",
       "      <td>0.000000e+00</td>\n",
       "      <td>0.000000</td>\n",
       "      <td>NaN</td>\n",
       "      <td>NaN</td>\n",
       "      <td>NaN</td>\n",
       "      <td>NaN</td>\n",
       "      <td>NaN</td>\n",
       "      <td>NaN</td>\n",
       "      <td>NaN</td>\n",
       "      <td>NaN</td>\n",
       "      <td>NaN</td>\n",
       "      <td>NaN</td>\n",
       "      <td>NaN</td>\n",
       "      <td>NaN</td>\n",
       "      <td>NaN</td>\n",
       "      <td>NaN</td>\n",
       "      <td>NaN</td>\n",
       "    </tr>\n",
       "    <tr>\n",
       "      <th>2</th>\n",
       "      <td>4.20004</td>\n",
       "      <td>0.000000e+00</td>\n",
       "      <td>0.000000</td>\n",
       "      <td>NaN</td>\n",
       "      <td>NaN</td>\n",
       "      <td>NaN</td>\n",
       "      <td>NaN</td>\n",
       "      <td>NaN</td>\n",
       "      <td>NaN</td>\n",
       "      <td>NaN</td>\n",
       "      <td>NaN</td>\n",
       "      <td>NaN</td>\n",
       "      <td>NaN</td>\n",
       "      <td>NaN</td>\n",
       "      <td>NaN</td>\n",
       "      <td>NaN</td>\n",
       "      <td>NaN</td>\n",
       "      <td>NaN</td>\n",
       "    </tr>\n",
       "    <tr>\n",
       "      <th>3</th>\n",
       "      <td>4.20006</td>\n",
       "      <td>0.000000e+00</td>\n",
       "      <td>0.000000</td>\n",
       "      <td>NaN</td>\n",
       "      <td>NaN</td>\n",
       "      <td>NaN</td>\n",
       "      <td>NaN</td>\n",
       "      <td>NaN</td>\n",
       "      <td>NaN</td>\n",
       "      <td>NaN</td>\n",
       "      <td>NaN</td>\n",
       "      <td>NaN</td>\n",
       "      <td>NaN</td>\n",
       "      <td>NaN</td>\n",
       "      <td>NaN</td>\n",
       "      <td>NaN</td>\n",
       "      <td>NaN</td>\n",
       "      <td>NaN</td>\n",
       "    </tr>\n",
       "    <tr>\n",
       "      <th>4</th>\n",
       "      <td>4.20008</td>\n",
       "      <td>0.000000e+00</td>\n",
       "      <td>0.000000</td>\n",
       "      <td>NaN</td>\n",
       "      <td>NaN</td>\n",
       "      <td>NaN</td>\n",
       "      <td>NaN</td>\n",
       "      <td>NaN</td>\n",
       "      <td>NaN</td>\n",
       "      <td>NaN</td>\n",
       "      <td>NaN</td>\n",
       "      <td>NaN</td>\n",
       "      <td>NaN</td>\n",
       "      <td>NaN</td>\n",
       "      <td>NaN</td>\n",
       "      <td>NaN</td>\n",
       "      <td>NaN</td>\n",
       "      <td>NaN</td>\n",
       "    </tr>\n",
       "    <tr>\n",
       "      <th>...</th>\n",
       "      <td>...</td>\n",
       "      <td>...</td>\n",
       "      <td>...</td>\n",
       "      <td>...</td>\n",
       "      <td>...</td>\n",
       "      <td>...</td>\n",
       "      <td>...</td>\n",
       "      <td>...</td>\n",
       "      <td>...</td>\n",
       "      <td>...</td>\n",
       "      <td>...</td>\n",
       "      <td>...</td>\n",
       "      <td>...</td>\n",
       "      <td>...</td>\n",
       "      <td>...</td>\n",
       "      <td>...</td>\n",
       "      <td>...</td>\n",
       "      <td>...</td>\n",
       "    </tr>\n",
       "    <tr>\n",
       "      <th>54996</th>\n",
       "      <td>5.29992</td>\n",
       "      <td>7.220000e-16</td>\n",
       "      <td>0.000007</td>\n",
       "      <td>NaN</td>\n",
       "      <td>NaN</td>\n",
       "      <td>NaN</td>\n",
       "      <td>NaN</td>\n",
       "      <td>NaN</td>\n",
       "      <td>NaN</td>\n",
       "      <td>NaN</td>\n",
       "      <td>NaN</td>\n",
       "      <td>NaN</td>\n",
       "      <td>NaN</td>\n",
       "      <td>NaN</td>\n",
       "      <td>NaN</td>\n",
       "      <td>NaN</td>\n",
       "      <td>NaN</td>\n",
       "      <td>NaN</td>\n",
       "    </tr>\n",
       "    <tr>\n",
       "      <th>54997</th>\n",
       "      <td>5.29994</td>\n",
       "      <td>6.900000e-16</td>\n",
       "      <td>0.000006</td>\n",
       "      <td>NaN</td>\n",
       "      <td>NaN</td>\n",
       "      <td>NaN</td>\n",
       "      <td>NaN</td>\n",
       "      <td>NaN</td>\n",
       "      <td>NaN</td>\n",
       "      <td>NaN</td>\n",
       "      <td>NaN</td>\n",
       "      <td>NaN</td>\n",
       "      <td>NaN</td>\n",
       "      <td>NaN</td>\n",
       "      <td>NaN</td>\n",
       "      <td>NaN</td>\n",
       "      <td>NaN</td>\n",
       "      <td>NaN</td>\n",
       "    </tr>\n",
       "    <tr>\n",
       "      <th>54998</th>\n",
       "      <td>5.29996</td>\n",
       "      <td>6.640000e-16</td>\n",
       "      <td>0.000006</td>\n",
       "      <td>NaN</td>\n",
       "      <td>NaN</td>\n",
       "      <td>NaN</td>\n",
       "      <td>NaN</td>\n",
       "      <td>NaN</td>\n",
       "      <td>NaN</td>\n",
       "      <td>NaN</td>\n",
       "      <td>NaN</td>\n",
       "      <td>NaN</td>\n",
       "      <td>NaN</td>\n",
       "      <td>NaN</td>\n",
       "      <td>NaN</td>\n",
       "      <td>NaN</td>\n",
       "      <td>NaN</td>\n",
       "      <td>NaN</td>\n",
       "    </tr>\n",
       "    <tr>\n",
       "      <th>54999</th>\n",
       "      <td>5.29998</td>\n",
       "      <td>6.490000e-16</td>\n",
       "      <td>0.000006</td>\n",
       "      <td>NaN</td>\n",
       "      <td>NaN</td>\n",
       "      <td>NaN</td>\n",
       "      <td>NaN</td>\n",
       "      <td>NaN</td>\n",
       "      <td>NaN</td>\n",
       "      <td>NaN</td>\n",
       "      <td>NaN</td>\n",
       "      <td>NaN</td>\n",
       "      <td>NaN</td>\n",
       "      <td>NaN</td>\n",
       "      <td>NaN</td>\n",
       "      <td>NaN</td>\n",
       "      <td>NaN</td>\n",
       "      <td>NaN</td>\n",
       "    </tr>\n",
       "    <tr>\n",
       "      <th>55000</th>\n",
       "      <td>5.30000</td>\n",
       "      <td>6.490000e-16</td>\n",
       "      <td>0.000006</td>\n",
       "      <td>NaN</td>\n",
       "      <td>NaN</td>\n",
       "      <td>NaN</td>\n",
       "      <td>NaN</td>\n",
       "      <td>NaN</td>\n",
       "      <td>NaN</td>\n",
       "      <td>NaN</td>\n",
       "      <td>NaN</td>\n",
       "      <td>NaN</td>\n",
       "      <td>NaN</td>\n",
       "      <td>NaN</td>\n",
       "      <td>NaN</td>\n",
       "      <td>NaN</td>\n",
       "      <td>NaN</td>\n",
       "      <td>NaN</td>\n",
       "    </tr>\n",
       "  </tbody>\n",
       "</table>\n",
       "<p>55001 rows × 18 columns</p>\n",
       "</div>"
      ],
      "text/plain": [
       "       Wavelength     FluxDens1  FluxDens2  r_a  r_b     T_r           N_r  \\\n",
       "0         4.20000  0.000000e+00   0.000000  0.0  5.0  1000.0  1.000000e+16   \n",
       "1         4.20002  0.000000e+00   0.000000  NaN  NaN     NaN           NaN   \n",
       "2         4.20004  0.000000e+00   0.000000  NaN  NaN     NaN           NaN   \n",
       "3         4.20006  0.000000e+00   0.000000  NaN  NaN     NaN           NaN   \n",
       "4         4.20008  0.000000e+00   0.000000  NaN  NaN     NaN           NaN   \n",
       "...           ...           ...        ...  ...  ...     ...           ...   \n",
       "54996     5.29992  7.220000e-16   0.000007  NaN  NaN     NaN           NaN   \n",
       "54997     5.29994  6.900000e-16   0.000006  NaN  NaN     NaN           NaN   \n",
       "54998     5.29996  6.640000e-16   0.000006  NaN  NaN     NaN           NaN   \n",
       "54999     5.29998  6.490000e-16   0.000006  NaN  NaN     NaN           NaN   \n",
       "55000     5.30000  6.490000e-16   0.000006  NaN  NaN     NaN           NaN   \n",
       "\n",
       "           pix      res    dis  Unnamed: 10  Unnamed: 11  Unnamed: 12  \\\n",
       "0      0.00002  10000.0  140.0          NaN          NaN          NaN   \n",
       "1          NaN      NaN    NaN          NaN          NaN          NaN   \n",
       "2          NaN      NaN    NaN          NaN          NaN          NaN   \n",
       "3          NaN      NaN    NaN          NaN          NaN          NaN   \n",
       "4          NaN      NaN    NaN          NaN          NaN          NaN   \n",
       "...        ...      ...    ...          ...          ...          ...   \n",
       "54996      NaN      NaN    NaN          NaN          NaN          NaN   \n",
       "54997      NaN      NaN    NaN          NaN          NaN          NaN   \n",
       "54998      NaN      NaN    NaN          NaN          NaN          NaN   \n",
       "54999      NaN      NaN    NaN          NaN          NaN          NaN   \n",
       "55000      NaN      NaN    NaN          NaN          NaN          NaN   \n",
       "\n",
       "       Unnamed: 13  Unnamed: 14  Unnamed: 15  Unnamed: 16  Unnamed: 17  \n",
       "0              NaN          NaN          NaN          NaN          NaN  \n",
       "1              NaN          NaN          NaN          NaN          NaN  \n",
       "2              NaN          NaN          NaN          NaN          NaN  \n",
       "3              NaN          NaN          NaN          NaN          NaN  \n",
       "4              NaN          NaN          NaN          NaN          NaN  \n",
       "...            ...          ...          ...          ...          ...  \n",
       "54996          NaN          NaN          NaN          NaN          NaN  \n",
       "54997          NaN          NaN          NaN          NaN          NaN  \n",
       "54998          NaN          NaN          NaN          NaN          NaN  \n",
       "54999          NaN          NaN          NaN          NaN          NaN  \n",
       "55000          NaN          NaN          NaN          NaN          NaN  \n",
       "\n",
       "[55001 rows x 18 columns]"
      ]
     },
     "execution_count": 2,
     "metadata": {},
     "output_type": "execute_result"
    }
   ],
   "source": [
    "pd.read_csv(\"dump_spectra.csv\")"
   ]
  },
  {
   "cell_type": "code",
   "execution_count": 3,
   "id": "8d150a38",
   "metadata": {},
   "outputs": [],
   "source": [
    "data = pd.read_csv(\"dump_spectra.csv\")"
   ]
  },
  {
   "cell_type": "code",
   "execution_count": 4,
   "id": "57621f2a",
   "metadata": {},
   "outputs": [],
   "source": [
    "wavelength0 = []\n",
    "flux0 = []\n",
    "\n",
    "wavelength1 = []\n",
    "flux1 = []\n",
    "\n",
    "wavelength2 = []\n",
    "flux2 = []"
   ]
  },
  {
   "cell_type": "code",
   "execution_count": 5,
   "id": "165391a8",
   "metadata": {},
   "outputs": [
    {
     "data": {
      "text/plain": [
       "[<matplotlib.lines.Line2D at 0x240fce3ccd0>]"
      ]
     },
     "execution_count": 5,
     "metadata": {},
     "output_type": "execute_result"
    },
    {
     "data": {
      "image/png": "[encoded data removed]",
      "text/plain": [
       "<Figure size 432x288 with 1 Axes>"
      ]
     },
     "metadata": {
      "needs_background": "light"
     },
     "output_type": "display_data"
    }
   ],
   "source": [
    "for i in range(len(data)):\n",
    "    wavelength0.append(data.Wavelength[i])\n",
    "    flux0.append(data.FluxDens1[i])\n",
    "    \n",
    "plt.plot(wavelength0, flux0)"
   ]
  },
  {
   "cell_type": "code",
   "execution_count": 6,
   "id": "61d0cd7c",
   "metadata": {},
   "outputs": [],
   "source": [
    "x = []\n",
    "y = 0\n",
    "\n",
    "while y <= 55000:\n",
    "    \n",
    "    x.append(y)\n",
    "    \n",
    "    y = y + 1\n",
    "\n",
    "y = 0"
   ]
  },
  {
   "cell_type": "code",
   "execution_count": 7,
   "id": "a2710ff5",
   "metadata": {},
   "outputs": [
    {
     "data": {
      "text/plain": [
       "55001"
      ]
     },
     "execution_count": 7,
     "metadata": {},
     "output_type": "execute_result"
    }
   ],
   "source": [
    "len(x)"
   ]
  },
  {
   "cell_type": "code",
   "execution_count": 8,
   "id": "5b46bf0e",
   "metadata": {},
   "outputs": [
    {
     "data": {
      "text/plain": [
       "1.5e-10"
      ]
     },
     "execution_count": 8,
     "metadata": {},
     "output_type": "execute_result"
    }
   ],
   "source": [
    "flux = .15 * 10**(-9)\n",
    "flux"
   ]
  },
  {
   "cell_type": "code",
   "execution_count": 9,
   "id": "c1d6dc43",
   "metadata": {},
   "outputs": [],
   "source": [
    "for i in x:\n",
    "    \n",
    "    if flux < flux0[i]:\n",
    "        \n",
    "        flux1.append(flux0[i])\n",
    "        wavelength1.append(wavelength0[i])"
   ]
  },
  {
   "cell_type": "code",
   "execution_count": 10,
   "id": "f9964155",
   "metadata": {},
   "outputs": [
    {
     "data": {
      "text/plain": [
       "3147"
      ]
     },
     "execution_count": 10,
     "metadata": {},
     "output_type": "execute_result"
    }
   ],
   "source": [
    "len(flux1)"
   ]
  },
  {
   "cell_type": "code",
   "execution_count": 11,
   "id": "6f8f132f",
   "metadata": {},
   "outputs": [
    {
     "data": {
      "text/plain": [
       "3147"
      ]
     },
     "execution_count": 11,
     "metadata": {},
     "output_type": "execute_result"
    }
   ],
   "source": [
    "len(wavelength1)"
   ]
  },
  {
   "cell_type": "code",
   "execution_count": 12,
   "id": "ee9a82da",
   "metadata": {},
   "outputs": [],
   "source": [
    "z = []\n",
    "y = 0\n",
    "\n",
    "while y < (len(wavelength1) - 1):\n",
    "    \n",
    "    z.append(y)\n",
    "    \n",
    "    y = y + 1"
   ]
  },
  {
   "cell_type": "code",
   "execution_count": 13,
   "id": "18240b1e",
   "metadata": {},
   "outputs": [
    {
     "data": {
      "text/plain": [
       "3146"
      ]
     },
     "execution_count": 13,
     "metadata": {},
     "output_type": "execute_result"
    }
   ],
   "source": [
    "len(z)"
   ]
  },
  {
   "cell_type": "code",
   "execution_count": 14,
   "id": "e18d22e3",
   "metadata": {},
   "outputs": [],
   "source": [
    "flux = 0\n",
    "dl = 0\n",
    "\n",
    "for i in z:\n",
    "    \n",
    "    dl = wavelength1[i + 1] - wavelength1[i]\n",
    "    \n",
    "    if dl < .00005:\n",
    "        flux = flux1[i] * dl\n",
    "    \n",
    "        flux2.append(flux)\n",
    "        wavelength2.append(wavelength1[i])"
   ]
  },
  {
   "cell_type": "code",
   "execution_count": 15,
   "id": "d12328c8",
   "metadata": {},
   "outputs": [
    {
     "data": {
      "text/plain": [
       "3046"
      ]
     },
     "execution_count": 15,
     "metadata": {},
     "output_type": "execute_result"
    }
   ],
   "source": [
    "len(flux2)"
   ]
  },
  {
   "cell_type": "code",
   "execution_count": 16,
   "id": "cf28ecb5",
   "metadata": {},
   "outputs": [
    {
     "data": {
      "text/plain": [
       "3046"
      ]
     },
     "execution_count": 16,
     "metadata": {},
     "output_type": "execute_result"
    }
   ],
   "source": [
    "len(wavelength2)"
   ]
  },
  {
   "cell_type": "code",
   "execution_count": 17,
   "id": "a6ecb965",
   "metadata": {},
   "outputs": [
    {
     "data": {
      "text/plain": [
       "[<matplotlib.lines.Line2D at 0x240812840a0>]"
      ]
     },
     "execution_count": 17,
     "metadata": {},
     "output_type": "execute_result"
    },
    {
     "data": {
      "image/png": "[encoded data removed]",
      "text/plain": [
       "<Figure size 432x288 with 1 Axes>"
      ]
     },
     "metadata": {
      "needs_background": "light"
     },
     "output_type": "display_data"
    }
   ],
   "source": [
    "plt.plot(wavelength2, flux2)"
   ]
  },
  {
   "cell_type": "markdown",
   "id": "fae455e3",
   "metadata": {},
   "source": [
    "Up to this point represents the code I wrote for lab 2.1"
   ]
  },
  {
   "cell_type": "code",
   "execution_count": 18,
   "id": "0f4f8727",
   "metadata": {},
   "outputs": [],
   "source": [
    "import seaborn as sns\n",
    "\n",
    "c = 3 * 10**(8)\n",
    "h = 6.626 * 10**(-34)\n",
    "\n",
    "\n",
    "wavelength_b0 = []\n",
    "\n",
    "F_l = []\n",
    "wavelength_b1 = []\n",
    "A_ul = []\n",
    "E_up = []\n",
    "g_up = []\n",
    "ln_function = []"
   ]
  },
  {
   "cell_type": "markdown",
   "id": "eced6129",
   "metadata": {},
   "source": [
    "Here I define the variables and arrays that I am going to need. I am using seaborn because it can do a linear regression."
   ]
  },
  {
   "cell_type": "code",
   "execution_count": 19,
   "id": "9a8dbb91",
   "metadata": {},
   "outputs": [
    {
     "data": {
      "text/html": [
       "<div>\n",
       "<style scoped>\n",
       "    .dataframe tbody tr th:only-of-type {\n",
       "        vertical-align: middle;\n",
       "    }\n",
       "\n",
       "    .dataframe tbody tr th {\n",
       "        vertical-align: top;\n",
       "    }\n",
       "\n",
       "    .dataframe thead th {\n",
       "        text-align: right;\n",
       "    }\n",
       "</style>\n",
       "<table border=\"1\" class=\"dataframe\">\n",
       "  <thead>\n",
       "    <tr style=\"text-align: right;\">\n",
       "      <th></th>\n",
       "      <th>Upper</th>\n",
       "      <th>Lower</th>\n",
       "      <th>Lambda</th>\n",
       "      <th>Tau</th>\n",
       "      <th>Intensity</th>\n",
       "      <th>A_ul</th>\n",
       "      <th>E_up</th>\n",
       "      <th>g_up</th>\n",
       "      <th>Lambdaum</th>\n",
       "      <th>Frequency</th>\n",
       "    </tr>\n",
       "  </thead>\n",
       "  <tbody>\n",
       "    <tr>\n",
       "      <th>0</th>\n",
       "      <td>3_R_13-</td>\n",
       "      <td>3_R_13</td>\n",
       "      <td>191.228311</td>\n",
       "      <td>2.180000e-07</td>\n",
       "      <td>8.810000e-10</td>\n",
       "      <td>0.000023</td>\n",
       "      <td>9701.436</td>\n",
       "      <td>29</td>\n",
       "      <td>191228.311</td>\n",
       "      <td>1.570000e+12</td>\n",
       "    </tr>\n",
       "    <tr>\n",
       "      <th>1</th>\n",
       "      <td>2_R_13-</td>\n",
       "      <td>2_R_13</td>\n",
       "      <td>189.453054</td>\n",
       "      <td>1.390000e-05</td>\n",
       "      <td>5.760000e-08</td>\n",
       "      <td>0.000073</td>\n",
       "      <td>6699.155</td>\n",
       "      <td>29</td>\n",
       "      <td>189453.054</td>\n",
       "      <td>1.580000e+12</td>\n",
       "    </tr>\n",
       "    <tr>\n",
       "      <th>2</th>\n",
       "      <td>1_R_13-</td>\n",
       "      <td>1_R_13</td>\n",
       "      <td>187.710348</td>\n",
       "      <td>6.070000e-04</td>\n",
       "      <td>2.600000e-06</td>\n",
       "      <td>0.000157</td>\n",
       "      <td>3658.870</td>\n",
       "      <td>29</td>\n",
       "      <td>187710.348</td>\n",
       "      <td>1.600000e+12</td>\n",
       "    </tr>\n",
       "    <tr>\n",
       "      <th>3</th>\n",
       "      <td>0_R_13-</td>\n",
       "      <td>0_R_13</td>\n",
       "      <td>185.999294</td>\n",
       "      <td>2.260000e-02</td>\n",
       "      <td>9.860000e-05</td>\n",
       "      <td>0.000274</td>\n",
       "      <td>580.487</td>\n",
       "      <td>29</td>\n",
       "      <td>185999.294</td>\n",
       "      <td>1.610000e+12</td>\n",
       "    </tr>\n",
       "    <tr>\n",
       "      <th>4</th>\n",
       "      <td>3_R_14-</td>\n",
       "      <td>3_R_14</td>\n",
       "      <td>178.513663</td>\n",
       "      <td>2.260000e-07</td>\n",
       "      <td>1.120000e-09</td>\n",
       "      <td>0.000028</td>\n",
       "      <td>9782.033</td>\n",
       "      <td>31</td>\n",
       "      <td>178513.663</td>\n",
       "      <td>1.680000e+12</td>\n",
       "    </tr>\n",
       "    <tr>\n",
       "      <th>...</th>\n",
       "      <td>...</td>\n",
       "      <td>...</td>\n",
       "      <td>...</td>\n",
       "      <td>...</td>\n",
       "      <td>...</td>\n",
       "      <td>...</td>\n",
       "      <td>...</td>\n",
       "      <td>...</td>\n",
       "      <td>...</td>\n",
       "      <td>...</td>\n",
       "    </tr>\n",
       "    <tr>\n",
       "      <th>19062</th>\n",
       "      <td>4_R_28-</td>\n",
       "      <td>0_R_28</td>\n",
       "      <td>1.181408</td>\n",
       "      <td>9.760000e-09</td>\n",
       "      <td>1.090000e-08</td>\n",
       "      <td>0.000096</td>\n",
       "      <td>14418.674</td>\n",
       "      <td>59</td>\n",
       "      <td>1181.408</td>\n",
       "      <td>2.540000e+14</td>\n",
       "    </tr>\n",
       "    <tr>\n",
       "      <th>19063</th>\n",
       "      <td>4_R_24-</td>\n",
       "      <td>0_R_24</td>\n",
       "      <td>1.181375</td>\n",
       "      <td>1.340000e-08</td>\n",
       "      <td>1.490000e-08</td>\n",
       "      <td>0.000085</td>\n",
       "      <td>13835.237</td>\n",
       "      <td>51</td>\n",
       "      <td>1181.375</td>\n",
       "      <td>2.540000e+14</td>\n",
       "    </tr>\n",
       "    <tr>\n",
       "      <th>19064</th>\n",
       "      <td>4_R_27-</td>\n",
       "      <td>0_R_27</td>\n",
       "      <td>1.181370</td>\n",
       "      <td>1.070000e-08</td>\n",
       "      <td>1.190000e-08</td>\n",
       "      <td>0.000093</td>\n",
       "      <td>14264.942</td>\n",
       "      <td>57</td>\n",
       "      <td>1181.370</td>\n",
       "      <td>2.540000e+14</td>\n",
       "    </tr>\n",
       "    <tr>\n",
       "      <th>19065</th>\n",
       "      <td>4_R_25-</td>\n",
       "      <td>0_R_25</td>\n",
       "      <td>1.181353</td>\n",
       "      <td>1.250000e-08</td>\n",
       "      <td>1.390000e-08</td>\n",
       "      <td>0.000087</td>\n",
       "      <td>13973.217</td>\n",
       "      <td>53</td>\n",
       "      <td>1181.353</td>\n",
       "      <td>2.540000e+14</td>\n",
       "    </tr>\n",
       "    <tr>\n",
       "      <th>19066</th>\n",
       "      <td>4_R_26-</td>\n",
       "      <td>0_R_26</td>\n",
       "      <td>1.181351</td>\n",
       "      <td>1.160000e-08</td>\n",
       "      <td>1.290000e-08</td>\n",
       "      <td>0.000090</td>\n",
       "      <td>14116.454</td>\n",
       "      <td>55</td>\n",
       "      <td>1181.351</td>\n",
       "      <td>2.540000e+14</td>\n",
       "    </tr>\n",
       "  </tbody>\n",
       "</table>\n",
       "<p>19067 rows × 10 columns</p>\n",
       "</div>"
      ],
      "text/plain": [
       "         Upper   Lower      Lambda           Tau     Intensity      A_ul  \\\n",
       "0      3_R_13-  3_R_13  191.228311  2.180000e-07  8.810000e-10  0.000023   \n",
       "1      2_R_13-  2_R_13  189.453054  1.390000e-05  5.760000e-08  0.000073   \n",
       "2      1_R_13-  1_R_13  187.710348  6.070000e-04  2.600000e-06  0.000157   \n",
       "3      0_R_13-  0_R_13  185.999294  2.260000e-02  9.860000e-05  0.000274   \n",
       "4      3_R_14-  3_R_14  178.513663  2.260000e-07  1.120000e-09  0.000028   \n",
       "...        ...     ...         ...           ...           ...       ...   \n",
       "19062  4_R_28-  0_R_28    1.181408  9.760000e-09  1.090000e-08  0.000096   \n",
       "19063  4_R_24-  0_R_24    1.181375  1.340000e-08  1.490000e-08  0.000085   \n",
       "19064  4_R_27-  0_R_27    1.181370  1.070000e-08  1.190000e-08  0.000093   \n",
       "19065  4_R_25-  0_R_25    1.181353  1.250000e-08  1.390000e-08  0.000087   \n",
       "19066  4_R_26-  0_R_26    1.181351  1.160000e-08  1.290000e-08  0.000090   \n",
       "\n",
       "            E_up  g_up    Lambdaum     Frequency  \n",
       "0       9701.436    29  191228.311  1.570000e+12  \n",
       "1       6699.155    29  189453.054  1.580000e+12  \n",
       "2       3658.870    29  187710.348  1.600000e+12  \n",
       "3        580.487    29  185999.294  1.610000e+12  \n",
       "4       9782.033    31  178513.663  1.680000e+12  \n",
       "...          ...   ...         ...           ...  \n",
       "19062  14418.674    59    1181.408  2.540000e+14  \n",
       "19063  13835.237    51    1181.375  2.540000e+14  \n",
       "19064  14264.942    57    1181.370  2.540000e+14  \n",
       "19065  13973.217    53    1181.353  2.540000e+14  \n",
       "19066  14116.454    55    1181.351  2.540000e+14  \n",
       "\n",
       "[19067 rows x 10 columns]"
      ]
     },
     "execution_count": 19,
     "metadata": {},
     "output_type": "execute_result"
    }
   ],
   "source": [
    "pd.read_csv(\"dump_lines_001.csv\")"
   ]
  },
  {
   "cell_type": "code",
   "execution_count": 20,
   "id": "9436777d",
   "metadata": {},
   "outputs": [],
   "source": [
    "data_b = pd.read_csv(\"dump_lines_001.csv\")"
   ]
  },
  {
   "cell_type": "markdown",
   "id": "debed5f1",
   "metadata": {},
   "source": [
    "I just imported the dump lines excel file"
   ]
  },
  {
   "cell_type": "code",
   "execution_count": 21,
   "id": "8e7f9d7d",
   "metadata": {},
   "outputs": [],
   "source": [
    "for i in range(len(data_b)):\n",
    "    \n",
    "    wavelength_b0.append(data_b.Lambda[i])"
   ]
  },
  {
   "cell_type": "code",
   "execution_count": 22,
   "id": "a16bdd3c",
   "metadata": {},
   "outputs": [],
   "source": [
    "count = 0\n",
    "count2 = 0\n",
    "\n",
    "for j in range(len(data_b)):\n",
    "    for i in wavelength2: \n",
    "    \n",
    "        if (math.sqrt((i - wavelength_b0[j])**2) < .00002) and (count == count2):\n",
    "        \n",
    "            wavelength_b1.append(data_b.Lambda[j])\n",
    "            A_ul.append(data_b.A_ul[j])\n",
    "            E_up.append(data_b.E_up[j])\n",
    "            g_up.append(data_b.g_up[j])\n",
    "            \n",
    "            count = count + 1\n",
    "            \n",
    "    if count > count2:\n",
    "        \n",
    "        count2 = count2 + 1\n",
    "        "
   ]
  },
  {
   "cell_type": "markdown",
   "id": "ee88f28d",
   "metadata": {},
   "source": [
    "What I am doing here might seem pretty confusing but it really isn't. first in the top cell I import all the wavelengths from the dumplines data. In the following cell I have two for loops, one that goes through the range in data_b and another that goes through all the wavelength peaks that I found from the prior lab. \n",
    "Since the wavelengths in dumplines and dumpspectra don't correspond, I made an if statement where if the difference in wavelength between dumpspectra and dumplines is under a certain cutoff, for whatever iteration 'j' it's in it appends the data to the arrays seen.\n",
    "I was running into a problem where multiple points were being appended for the same wavelength peak from 2.1. This happened because there were multiple wavelengths from dumplines that could correspond to some of the difference values set. To fix this I made two intigers 'count' that had to be equal for the if statement to run and it only allowed it to append one value."
   ]
  },
  {
   "cell_type": "code",
   "execution_count": 23,
   "id": "4cee4087",
   "metadata": {},
   "outputs": [
    {
     "data": {
      "text/plain": [
       "261"
      ]
     },
     "execution_count": 23,
     "metadata": {},
     "output_type": "execute_result"
    }
   ],
   "source": [
    "len(wavelength_b1)"
   ]
  },
  {
   "cell_type": "code",
   "execution_count": 24,
   "id": "70c474a7",
   "metadata": {},
   "outputs": [],
   "source": [
    "energy = 0\n",
    "\n",
    "for i in range(len(wavelength_b1)):\n",
    "    \n",
    "    energy = h * c / wavelength_b1[i]\n",
    "    \n",
    "    F_l.append(energy)"
   ]
  },
  {
   "cell_type": "code",
   "execution_count": 25,
   "id": "afcee594",
   "metadata": {},
   "outputs": [],
   "source": [
    "function = 0\n",
    "\n",
    "for i in range(len(wavelength_b1)):\n",
    "    \n",
    "    function = math.log((4*math.pi*F_l[i]*c) / (h*wavelength_b1[i]*A_ul[i]*g_up[i]))\n",
    "    \n",
    "    ln_function.append(function)"
   ]
  },
  {
   "cell_type": "markdown",
   "id": "f14a6ebd",
   "metadata": {},
   "source": [
    "In the two cells above, I calculate the energy for the wavelength values I got and append it to the energy array. Next, I calculate the ln function and append it to the function array."
   ]
  },
  {
   "cell_type": "code",
   "execution_count": 26,
   "id": "3112ae5e",
   "metadata": {},
   "outputs": [
    {
     "data": {
      "text/plain": [
       "<AxesSubplot:>"
      ]
     },
     "execution_count": 26,
     "metadata": {},
     "output_type": "execute_result"
    },
    {
     "data": {
      "image/png": "[encoded data removed]",
      "text/plain": [
       "<Figure size 432x288 with 1 Axes>"
      ]
     },
     "metadata": {
      "needs_background": "light"
     },
     "output_type": "display_data"
    }
   ],
   "source": [
    "sns.regplot(x = E_up, y = ln_function)"
   ]
  },
  {
   "cell_type": "code",
   "execution_count": 32,
   "id": "ee47433a",
   "metadata": {},
   "outputs": [],
   "source": [
    "slope, intercept = np.polyfit((E_up), (ln_function), 1)"
   ]
  },
  {
   "cell_type": "code",
   "execution_count": 33,
   "id": "1861fbc6",
   "metadata": {},
   "outputs": [
    {
     "name": "stdout",
     "output_type": "stream",
     "text": [
      "-5.9035869766739906e-05\n"
     ]
    }
   ],
   "source": [
    "slope"
   ]
  },
  {
   "cell_type": "code",
   "execution_count": 37,
   "id": "e46eb982",
   "metadata": {},
   "outputs": [],
   "source": [
    "slope = 1 / slope"
   ]
  },
  {
   "cell_type": "code",
   "execution_count": 38,
   "id": "12d35d68",
   "metadata": {},
   "outputs": [
    {
     "data": {
      "text/plain": [
       "-16938.854360089194"
      ]
     },
     "execution_count": 38,
     "metadata": {},
     "output_type": "execute_result"
    }
   ],
   "source": [
    "slope"
   ]
  },
  {
   "cell_type": "markdown",
   "id": "a84eb3a0",
   "metadata": {},
   "source": [
    "In the plot above you can see the linear regression. I am not sure if the data is right, but i went over my code multiple times and there didn't seem to be anything wrong.\n",
    "Here at the bottom is the approximated temperature that I get."
   ]
  },
  {
   "cell_type": "code",
   "execution_count": 40,
   "id": "382c8a59",
   "metadata": {},
   "outputs": [
    {
     "data": {
      "text/plain": [
       "16938.854360089194"
      ]
     },
     "execution_count": 40,
     "metadata": {},
     "output_type": "execute_result"
    }
   ],
   "source": [
    "Temperature = math.sqrt((slope)**2)\n",
    "Temperature"
   ]
  },
  {
   "cell_type": "code",
   "execution_count": null,
   "id": "ebfe4748",
   "metadata": {},
   "outputs": [],
   "source": []
  }
 ],
 "metadata": {
  "kernelspec": {
   "display_name": "Python 3 (ipykernel)",
   "language": "python",
   "name": "python3"
  },
  "language_info": {
   "codemirror_mode": {
    "name": "ipython",
    "version": 3
   },
   "file_extension": ".py",
   "mimetype": "text/x-python",
   "name": "python",
   "nbconvert_exporter": "python",
   "pygments_lexer": "ipython3",
   "version": "3.9.7"
  }
 },
 "nbformat": 4,
 "nbformat_minor": 5
}
