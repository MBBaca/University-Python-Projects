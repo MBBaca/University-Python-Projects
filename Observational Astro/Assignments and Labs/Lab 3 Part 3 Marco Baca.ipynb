{
 "cells": [
  {
   "cell_type": "code",
   "execution_count": 1,
   "id": "c3ebdcb6",
   "metadata": {},
   "outputs": [
    {
     "name": "stdout",
     "output_type": "stream",
     "text": [
      "Filename: messier48_20210218_055801_0_xz21lf_b_cal.fit\n",
      "No.    Name      Ver    Type      Cards   Dimensions   Format\n",
      "  0  PRIMARY       1 PrimaryHDU      52   (1336, 890)   int16 (rescales to uint16)   \n",
      "Filename: messier48_20210218_055717_0_fg1ecr_g_cal.fit\n",
      "No.    Name      Ver    Type      Cards   Dimensions   Format\n",
      "  0  PRIMARY       1 PrimaryHDU      52   (1336, 890)   int16 (rescales to uint16)   \n"
     ]
    }
   ],
   "source": [
    "from photutils import datasets\n",
    "import matplotlib.pyplot as plt\n",
    "import numpy as np\n",
    "from astropy.io import fits\n",
    "from astropy.utils.data import download_file\n",
    "from astropy.stats import sigma_clipped_stats\n",
    "import math as math\n",
    "\n",
    "blue_image = fits.open('messier48_20210218_055801_0_xz21lf_b_cal.fit')\n",
    "green_image = fits.open('messier48_20210218_055717_0_fg1ecr_g_cal.fit')\n",
    "\n",
    "blue_image.info()\n",
    "green_image.info()"
   ]
  },
  {
   "cell_type": "code",
   "execution_count": 2,
   "id": "caaa1c86",
   "metadata": {},
   "outputs": [
    {
     "name": "stdout",
     "output_type": "stream",
     "text": [
      "(205.19450086335817, 206.0, 18.078555354555913)\n",
      "(205.19450086335817, 206.0, 18.078555354555913)\n"
     ]
    }
   ],
   "source": [
    "data_b = blue_image[0].data \n",
    "mean, median, std = sigma_clipped_stats(data_b, sigma=3.0)  \n",
    "print((mean, median, std))\n",
    "\n",
    "data_g = green_image[0].data \n",
    "mean, median, std = sigma_clipped_stats(data_b, sigma=3.0)  \n",
    "print((mean, median, std))\n"
   ]
  },
  {
   "cell_type": "code",
   "execution_count": 3,
   "id": "0bb8d967",
   "metadata": {},
   "outputs": [
    {
     "name": "stdout",
     "output_type": "stream",
     "text": [
      " id xcentroid  ycentroid  sharpness  ... sky  peak    flux        mag     \n",
      "--- --------- ----------- ---------- ... --- ----- --------- -------------\n",
      "  1  13.02379 -0.17774692 0.84984083 ...   0    94 1.0146997  -0.015843787\n",
      "  2  1229.547   4.5019278 0.48231753 ...   0   425 4.3195073    -1.5885855\n",
      "  3 506.78316   9.9483912 0.63718038 ...   0   534 4.1310073    -1.5401399\n",
      "  4 937.60593   31.618922 0.57650253 ...   0 30242  262.0477    -6.0459509\n",
      "  5 264.56686   37.250215 0.38288532 ...   0    64 1.1317197   -0.13434717\n",
      "  6 1035.1871   37.294983 0.63818228 ...   0 16884 128.21991    -5.2698886\n",
      "  7 949.04783    41.25338 0.42137027 ...   0   144   1.32801   -0.30800338\n",
      "  8 163.06925    41.48214 0.82968057 ...   0   550 5.2607653    -1.8026223\n",
      "  9  82.47588   58.661102 0.52008852 ...   0   340 2.9657315    -1.1803296\n",
      " 10 639.38716   72.315486 0.52939205 ...   0   308 2.5585577     -1.019988\n",
      "...       ...         ...        ... ... ...   ...       ...           ...\n",
      "140 982.08289   781.01955 0.20403718 ...   0  2806 26.950913    -3.5764337\n",
      "141 485.00668   787.50396 0.49135828 ...   0  4002 30.303661    -3.7037377\n",
      "142 832.47999   792.28034 0.33710944 ...   0   133 1.4386211   -0.39486605\n",
      "143 525.64973   820.06642 0.47220352 ...   0   132 1.0042524 -0.0046071979\n",
      "144  93.98414   822.54961 0.21272221 ...   0   153 1.5378807   -0.46730662\n",
      "145 560.48329   836.34405 0.54207931 ...   0  2190 17.627042    -3.1154486\n",
      "146 445.14868   857.09264    0.55308 ...   0   139   1.08829  -0.091861614\n",
      "147 943.01173   859.91714 0.48472242 ...   0   335 3.1732356    -1.2537558\n",
      "148 566.96102   870.44027 0.24878007 ...   0  4445 42.174596    -4.0626273\n",
      "149 1218.8241   877.51238 0.43567903 ...   0   193 1.5560939   -0.48008948\n",
      "150 635.14072   884.97381 0.21696547 ...   0   124 1.1837583   -0.18315764\n",
      "Length = 150 rows\n"
     ]
    }
   ],
   "source": [
    "from photutils.detection import DAOStarFinder\n",
    "daofind = DAOStarFinder(fwhm=3.0, threshold=5.*std)  \n",
    "sources = daofind(data_b - median)\n",
    "for col in sources.colnames:  \n",
    "     sources[col].info.format = '%.8g'  # for consistent table output\n",
    "print(sources)  "
   ]
  },
  {
   "cell_type": "code",
   "execution_count": 4,
   "id": "ac195b5f",
   "metadata": {},
   "outputs": [
    {
     "data": {
      "text/plain": [
       "[<matplotlib.patches.Circle at 0x27ad1597250>,\n",
       " <matplotlib.patches.Circle at 0x27ad15a6430>,\n",
       " <matplotlib.patches.Circle at 0x27ad15a6520>,\n",
       " <matplotlib.patches.Circle at 0x27ad15a6610>,\n",
       " <matplotlib.patches.Circle at 0x27ad15a6700>,\n",
       " <matplotlib.patches.Circle at 0x27ad15a67f0>,\n",
       " <matplotlib.patches.Circle at 0x27ad15a68e0>,\n",
       " <matplotlib.patches.Circle at 0x27ad15a69d0>,\n",
       " <matplotlib.patches.Circle at 0x27ad15a6ac0>,\n",
       " <matplotlib.patches.Circle at 0x27ad15a6bb0>,\n",
       " <matplotlib.patches.Circle at 0x27ad15a6ca0>,\n",
       " <matplotlib.patches.Circle at 0x27ad15a6d90>,\n",
       " <matplotlib.patches.Circle at 0x27ad15a6e80>,\n",
       " <matplotlib.patches.Circle at 0x27ad15a6f70>,\n",
       " <matplotlib.patches.Circle at 0x27ad15ba0a0>,\n",
       " <matplotlib.patches.Circle at 0x27ad15ba190>,\n",
       " <matplotlib.patches.Circle at 0x27ad15ba280>,\n",
       " <matplotlib.patches.Circle at 0x27ad15ba370>,\n",
       " <matplotlib.patches.Circle at 0x27ad15ba460>,\n",
       " <matplotlib.patches.Circle at 0x27ad15ba550>,\n",
       " <matplotlib.patches.Circle at 0x27ad15ba640>,\n",
       " <matplotlib.patches.Circle at 0x27ad15ba730>,\n",
       " <matplotlib.patches.Circle at 0x27ad15ba820>,\n",
       " <matplotlib.patches.Circle at 0x27ad15ba910>,\n",
       " <matplotlib.patches.Circle at 0x27ad15baa00>,\n",
       " <matplotlib.patches.Circle at 0x27ad15baaf0>,\n",
       " <matplotlib.patches.Circle at 0x27ad15babe0>,\n",
       " <matplotlib.patches.Circle at 0x27ad15bacd0>,\n",
       " <matplotlib.patches.Circle at 0x27ad15badc0>,\n",
       " <matplotlib.patches.Circle at 0x27ad15baeb0>,\n",
       " <matplotlib.patches.Circle at 0x27ad15bafa0>,\n",
       " <matplotlib.patches.Circle at 0x27ad15c00d0>,\n",
       " <matplotlib.patches.Circle at 0x27ad15c01c0>,\n",
       " <matplotlib.patches.Circle at 0x27ad15c02b0>,\n",
       " <matplotlib.patches.Circle at 0x27ad15c03a0>,\n",
       " <matplotlib.patches.Circle at 0x27ad15c0490>,\n",
       " <matplotlib.patches.Circle at 0x27ad15c0580>,\n",
       " <matplotlib.patches.Circle at 0x27ad15c0670>,\n",
       " <matplotlib.patches.Circle at 0x27ad15c0760>,\n",
       " <matplotlib.patches.Circle at 0x27ad15c0850>,\n",
       " <matplotlib.patches.Circle at 0x27ad15c0940>,\n",
       " <matplotlib.patches.Circle at 0x27ad15c0a30>,\n",
       " <matplotlib.patches.Circle at 0x27ad15c0b20>,\n",
       " <matplotlib.patches.Circle at 0x27ad15c0c10>,\n",
       " <matplotlib.patches.Circle at 0x27ad15c0d00>,\n",
       " <matplotlib.patches.Circle at 0x27ad15c0df0>,\n",
       " <matplotlib.patches.Circle at 0x27ad15c0ee0>,\n",
       " <matplotlib.patches.Circle at 0x27ad15c0fd0>,\n",
       " <matplotlib.patches.Circle at 0x27ad15c6100>,\n",
       " <matplotlib.patches.Circle at 0x27ad15c61f0>,\n",
       " <matplotlib.patches.Circle at 0x27ad15c62e0>,\n",
       " <matplotlib.patches.Circle at 0x27ad15c63d0>,\n",
       " <matplotlib.patches.Circle at 0x27ad15c64c0>,\n",
       " <matplotlib.patches.Circle at 0x27ad15c65b0>,\n",
       " <matplotlib.patches.Circle at 0x27ad15c66a0>,\n",
       " <matplotlib.patches.Circle at 0x27ad15c6790>,\n",
       " <matplotlib.patches.Circle at 0x27ad15c6880>,\n",
       " <matplotlib.patches.Circle at 0x27ad15c6970>,\n",
       " <matplotlib.patches.Circle at 0x27ad15c6a60>,\n",
       " <matplotlib.patches.Circle at 0x27ad15c6b50>,\n",
       " <matplotlib.patches.Circle at 0x27ad15c6c40>,\n",
       " <matplotlib.patches.Circle at 0x27ad15c6d30>,\n",
       " <matplotlib.patches.Circle at 0x27ad15c6e20>,\n",
       " <matplotlib.patches.Circle at 0x27ad15c6f10>,\n",
       " <matplotlib.patches.Circle at 0x27ad15cb040>,\n",
       " <matplotlib.patches.Circle at 0x27ad15cb130>,\n",
       " <matplotlib.patches.Circle at 0x27ad15cb220>,\n",
       " <matplotlib.patches.Circle at 0x27ad15cb310>,\n",
       " <matplotlib.patches.Circle at 0x27ad15cb400>,\n",
       " <matplotlib.patches.Circle at 0x27ad15cb4f0>,\n",
       " <matplotlib.patches.Circle at 0x27ad15cb5e0>,\n",
       " <matplotlib.patches.Circle at 0x27ad15cb6d0>,\n",
       " <matplotlib.patches.Circle at 0x27ad15cb7c0>,\n",
       " <matplotlib.patches.Circle at 0x27ad15cb8b0>,\n",
       " <matplotlib.patches.Circle at 0x27ad15cb9a0>,\n",
       " <matplotlib.patches.Circle at 0x27ad15cba90>,\n",
       " <matplotlib.patches.Circle at 0x27ad15cbb80>,\n",
       " <matplotlib.patches.Circle at 0x27ad15cbc70>,\n",
       " <matplotlib.patches.Circle at 0x27ad15cbd60>,\n",
       " <matplotlib.patches.Circle at 0x27ad15cbe50>,\n",
       " <matplotlib.patches.Circle at 0x27ad15cbf40>,\n",
       " <matplotlib.patches.Circle at 0x27ad15d0070>,\n",
       " <matplotlib.patches.Circle at 0x27ad15d0160>,\n",
       " <matplotlib.patches.Circle at 0x27ad15d0250>,\n",
       " <matplotlib.patches.Circle at 0x27ad15d0340>,\n",
       " <matplotlib.patches.Circle at 0x27ad15d0430>,\n",
       " <matplotlib.patches.Circle at 0x27ad15d0520>,\n",
       " <matplotlib.patches.Circle at 0x27ad15d0610>,\n",
       " <matplotlib.patches.Circle at 0x27ad15d0700>,\n",
       " <matplotlib.patches.Circle at 0x27ad15d07f0>,\n",
       " <matplotlib.patches.Circle at 0x27ad15d08e0>,\n",
       " <matplotlib.patches.Circle at 0x27ad15d09d0>,\n",
       " <matplotlib.patches.Circle at 0x27ad15d0ac0>,\n",
       " <matplotlib.patches.Circle at 0x27ad15d0bb0>,\n",
       " <matplotlib.patches.Circle at 0x27ad15d0ca0>,\n",
       " <matplotlib.patches.Circle at 0x27ad15d0d90>,\n",
       " <matplotlib.patches.Circle at 0x27ad15d0e80>,\n",
       " <matplotlib.patches.Circle at 0x27ad15d0f70>,\n",
       " <matplotlib.patches.Circle at 0x27ad15d40a0>,\n",
       " <matplotlib.patches.Circle at 0x27ad15d4190>,\n",
       " <matplotlib.patches.Circle at 0x27ad15d4280>,\n",
       " <matplotlib.patches.Circle at 0x27ad15d4370>,\n",
       " <matplotlib.patches.Circle at 0x27ad15d4460>,\n",
       " <matplotlib.patches.Circle at 0x27ad15d4550>,\n",
       " <matplotlib.patches.Circle at 0x27ad15d4640>,\n",
       " <matplotlib.patches.Circle at 0x27ad15d4730>,\n",
       " <matplotlib.patches.Circle at 0x27ad15d4820>,\n",
       " <matplotlib.patches.Circle at 0x27ad15d4910>,\n",
       " <matplotlib.patches.Circle at 0x27ad15d4a00>,\n",
       " <matplotlib.patches.Circle at 0x27ad15d4af0>,\n",
       " <matplotlib.patches.Circle at 0x27ad15d4be0>,\n",
       " <matplotlib.patches.Circle at 0x27ad15d4cd0>,\n",
       " <matplotlib.patches.Circle at 0x27ad15d4dc0>,\n",
       " <matplotlib.patches.Circle at 0x27ad15d4eb0>,\n",
       " <matplotlib.patches.Circle at 0x27ad15d4fa0>,\n",
       " <matplotlib.patches.Circle at 0x27ad15d90d0>,\n",
       " <matplotlib.patches.Circle at 0x27ad15d91c0>,\n",
       " <matplotlib.patches.Circle at 0x27ad15d92b0>,\n",
       " <matplotlib.patches.Circle at 0x27ad15d93a0>,\n",
       " <matplotlib.patches.Circle at 0x27ad15d9490>,\n",
       " <matplotlib.patches.Circle at 0x27ad15d9580>,\n",
       " <matplotlib.patches.Circle at 0x27ad15d9670>,\n",
       " <matplotlib.patches.Circle at 0x27ad15d9760>,\n",
       " <matplotlib.patches.Circle at 0x27ad15d9850>,\n",
       " <matplotlib.patches.Circle at 0x27ad15d9940>,\n",
       " <matplotlib.patches.Circle at 0x27ad15d9a30>,\n",
       " <matplotlib.patches.Circle at 0x27ad15d9b20>,\n",
       " <matplotlib.patches.Circle at 0x27ad15d9c10>,\n",
       " <matplotlib.patches.Circle at 0x27ad15d9d00>,\n",
       " <matplotlib.patches.Circle at 0x27ad15d9df0>,\n",
       " <matplotlib.patches.Circle at 0x27ad15d9ee0>,\n",
       " <matplotlib.patches.Circle at 0x27ad15d9fd0>,\n",
       " <matplotlib.patches.Circle at 0x27ad15df100>,\n",
       " <matplotlib.patches.Circle at 0x27ad15df1f0>,\n",
       " <matplotlib.patches.Circle at 0x27ad15df2e0>,\n",
       " <matplotlib.patches.Circle at 0x27ad15df3d0>,\n",
       " <matplotlib.patches.Circle at 0x27ad15df4c0>,\n",
       " <matplotlib.patches.Circle at 0x27ad15df5b0>,\n",
       " <matplotlib.patches.Circle at 0x27ad15df6a0>,\n",
       " <matplotlib.patches.Circle at 0x27ad15df790>,\n",
       " <matplotlib.patches.Circle at 0x27ad15df880>,\n",
       " <matplotlib.patches.Circle at 0x27ad15df970>,\n",
       " <matplotlib.patches.Circle at 0x27ad15dfa60>,\n",
       " <matplotlib.patches.Circle at 0x27ad15dfb50>,\n",
       " <matplotlib.patches.Circle at 0x27ad15dfc40>,\n",
       " <matplotlib.patches.Circle at 0x27ad15dfd30>,\n",
       " <matplotlib.patches.Circle at 0x27ad15dfe20>,\n",
       " <matplotlib.patches.Circle at 0x27ad15dff10>,\n",
       " <matplotlib.patches.Circle at 0x27ad1562fd0>,\n",
       " <matplotlib.patches.Circle at 0x27ad157beb0>]"
      ]
     },
     "execution_count": 4,
     "metadata": {},
     "output_type": "execute_result"
    },
    {
     "data": {
      "image/png": "[encoded data removed]",
      "text/plain": [
       "<Figure size 432x288 with 1 Axes>"
      ]
     },
     "metadata": {
      "needs_background": "light"
     },
     "output_type": "display_data"
    }
   ],
   "source": [
    "import numpy as np\n",
    "import matplotlib.pyplot as plt\n",
    "from astropy.visualization import SqrtStretch\n",
    "from astropy.visualization.mpl_normalize import ImageNormalize\n",
    "from photutils.aperture import CircularAperture\n",
    "positions = np.transpose((sources['xcentroid'], sources['ycentroid']))\n",
    "apertures = CircularAperture(positions, r=3.0)\n",
    "norm = ImageNormalize(stretch=SqrtStretch())\n",
    "plt.imshow(data_b, cmap='Greys', origin='lower', norm=norm, interpolation='nearest')\n",
    "apertures.plot(color='blue', lw=1.5, alpha=0.5)"
   ]
  },
  {
   "cell_type": "code",
   "execution_count": 5,
   "id": "49125fd3",
   "metadata": {},
   "outputs": [],
   "source": [
    "from photutils import CircularAperture\n",
    "from photutils import aperture_photometry\n",
    "from photutils import CircularAnnulus\n",
    "\n",
    "Star_count_listb = []\n",
    "aperture_sum_listb = []\n",
    "annulus_sum_listb = []\n",
    "bkg_listb = []\n",
    "\n",
    "Star_count_listg = []\n",
    "aperture_sum_listg = []\n",
    "annulus_sum_listg = []\n",
    "bkg_listg = []\n",
    "\n",
    "mag_listb = []\n",
    "mag_listg = []\n",
    "BV_list = []\n",
    "\n",
    "t = 25"
   ]
  },
  {
   "cell_type": "code",
   "execution_count": 6,
   "id": "85093004",
   "metadata": {},
   "outputs": [],
   "source": [
    "for source in sources:\n",
    "    \n",
    "    position = np.transpose((source['xcentroid'], source['ycentroid']))\n",
    "    aperture = CircularAperture(position, r=3.0)\n",
    "    \n",
    "    phot_tableb1 = aperture_photometry(data_b, aperture)\n",
    "    phot_tableg1 = aperture_photometry(data_g, aperture)\n",
    "    \n",
    "    for col in phot_tableb1.colnames:\n",
    "        phot_tableb1[col].info.format = '%.8g'\n",
    "        \n",
    "    for col in phot_tableg1.colnames:\n",
    "        phot_tableg1[col].info.format = '%.8g'\n",
    "        \n",
    "    \n",
    "    annulus_aperture = CircularAnnulus(position, r_in = 4, r_out = 6)\n",
    "    apers = [aperture, annulus_aperture]\n",
    "    \n",
    "    phot_tableb = aperture_photometry(data_b, apers)\n",
    "    phot_tableg = aperture_photometry(data_g, apers)\n",
    "    \n",
    "    for col in phot_tableb.colnames:\n",
    "        phot_tableb[col].info.format = '%.8g'\n",
    "    for col in phot_tableg.colnames:\n",
    "        phot_tableg[col].info.format = '%.8g'\n",
    "        \n",
    "    bkg_meanb = phot_tableb['aperture_sum_1'] / annulus_aperture.area\n",
    "    bkg_sumb = bkg_meanb * aperture.area\n",
    "    final_sumb = phot_tableb['aperture_sum_0'] - bkg_sumb\n",
    "    \n",
    "    bkg_meang = phot_tableg['aperture_sum_1'] / annulus_aperture.area\n",
    "    bkg_sumg = bkg_meang * aperture.area\n",
    "    final_sumg = phot_tableg['aperture_sum_0'] - bkg_sumg\n",
    "    \n",
    "\n",
    "    if final_sumb > 0 and final_sumg > 0:\n",
    "        \n",
    "        mag_b = -2.5 * math.log10(final_sumb) + math.log10(t)\n",
    "        mag_g = -2.5 * math.log10(final_sumg) + math.log10(t)\n",
    "        BV = mag_b - mag_g\n",
    "        \n",
    "        Star_count_listb.append(final_sumb)\n",
    "        aperture_sum_listb.append(phot_tableb['aperture_sum_0'])\n",
    "        annulus_sum_listb.append(phot_tableb['aperture_sum_1'])\n",
    "        bkg_listb.append(bkg_sumb)\n",
    "    \n",
    "        Star_count_listg.append(final_sumg)\n",
    "        aperture_sum_listg.append(phot_tableg['aperture_sum_0'])\n",
    "        annulus_sum_listg.append(phot_tableg['aperture_sum_1'])\n",
    "        bkg_listg.append(bkg_sumg)\n",
    "    \n",
    "        mag_listb.append(mag_b)\n",
    "        mag_listg.append(mag_g)\n",
    "        BV_list.append(BV)\n",
    "        "
   ]
  },
  {
   "cell_type": "code",
   "execution_count": 7,
   "id": "45a99bc4",
   "metadata": {},
   "outputs": [
    {
     "name": "stdout",
     "output_type": "stream",
     "text": [
      "[-5.308917499125507, -7.736023003667206, -7.866348597012854, -12.022285797346605, -5.587450735181216, -11.439571821261792, -6.4282148609285725, -6.365803647705018, -7.4680909077225515, -7.1825758842825245, -10.197530457598695, -6.140899270460497, -6.667688496256011, -5.913815605887752, -7.518927364643124, -6.827119867435275, -8.671880521338833, -8.441121185038181, -6.134406250251439, -7.100278588400018, -10.670917263447546, -10.558203018584411, -8.81302076053238, -5.802516507071293, -8.10390562803676, -10.549928441084095, -8.894328302703679, -10.542219442615309, -8.223129892786979, -7.023720615099897, -6.798379985707534, -9.662943472547886, -7.075450191760362, -11.203355957903382, -9.23519750932091, -7.835898296244615, -6.920421494206121, -7.1465810355716055, -5.139097181724379, -6.409302235171776, -6.605917574012603, -6.275530426393376, -6.956615981451234, -5.785707608838929, -7.752496710299226, -5.730982454665805, -7.5906450258692395, -8.41997091351958, -6.759336478741412, -6.23109333440128, -6.131762897305358, -6.125034910127303, -8.567549505742099, -10.941590750890313, -6.263279743527998, -8.992776596253478, -9.238213476831675, -6.3715737844421, -6.017201375760523, -9.812231095930427, -9.142179198151899, -8.835387793730213, -10.298705024394309, -8.261081220938957, -5.935964876748272, -10.289087821464099, -7.92076385760233, -10.369310995844522, -9.540422843212042, -6.9967906733731, -6.597074996466381, -9.566271765642725, -10.887436156330374, -6.278309773661727, -9.954280379081283, -11.101213509200921, -8.418598188870178, -8.805857262347565, -6.948944134404497, -6.3919432752308385, -6.552418792445725, -10.727835269535149, -11.550324827850392, -5.915702639244456, -6.1119103008645235, -8.079748553531097, -7.538704760702538, -10.650685938888913, -6.928857606518548, -7.617893128843754, -9.34635813445293, -6.69027110948662, -9.203722127333855, -9.805016876300733, -10.245553536029396, -9.672662564412622, -9.58670167987042, -8.52289798025061, -8.999243030756817, -6.475522613196281, -7.011447665397467, -6.456845989848238, -9.848107875082295, -6.937173418932808, -6.27081312275132, -6.75863999770953, -6.134666786486626, -6.882988305029153, -5.912980084646549, -10.477805218315662, -6.738909629637771, -10.760461934785745, -9.22600187031114, -9.095445755228907, -9.853025392317717, -6.565604691893306, -11.699755720598505, -5.876086349001187, -8.82077871195709, -10.009040950471917, -7.712346788380557, -6.796081196238088, -7.3350173203446065, -6.7685429556333805, -6.370797105428711, -8.20697971428183, -8.86189366379679, -8.67153648313326, -6.584069480468019, -4.933286292835915, -6.495931644642411, -6.408665853055921, -9.044783146908806, -8.441573772163188, -6.281970149998088, -10.021818492583078, -10.136808375867393, -6.5532920231902985, -6.347908085649825, -6.834315278548656, -9.423760077376624, -6.325097448214049, -7.372602784838037, -10.523389020341979, -7.105638335480153, -7.0462028452857695]\n"
     ]
    }
   ],
   "source": [
    "print(mag_listb)"
   ]
  },
  {
   "cell_type": "code",
   "execution_count": 8,
   "id": "7d0ef0aa",
   "metadata": {},
   "outputs": [
    {
     "name": "stdout",
     "output_type": "stream",
     "text": [
      "[-5.636010504231936, -8.072018980733711, -8.288396236588367, -12.129058395921335, -6.062447816227085, -11.572725257391781, -6.872587091661437, -6.447544798147065, -8.161291305990446, -7.447178856741015, -10.283101363762036, -6.541057818816358, -7.176285106189557, -6.336662431853527, -8.153436111706927, -7.468300576525637, -8.82799816310434, -8.90443638347568, -6.6775824283676375, -7.651399703163117, -10.86545067958312, -10.674529547918436, -9.124675452686683, -6.555388823242887, -8.518112651515807, -11.430143141441548, -9.162844576666386, -10.715448885325355, -8.630472260443167, -7.9943450803098575, -7.453631339936928, -10.07316605817154, -7.6298165255387165, -11.40925227913766, -9.449965403649086, -8.414213536768813, -7.414215013066505, -7.638664485400744, -5.879394809591756, -7.111105842084491, -7.239986974171824, -6.567800529390373, -7.313564921788975, -6.339270752216045, -8.33139285300099, -6.570214915035292, -8.069889437913092, -8.71386999325712, -7.158793567289713, -6.587054426688201, -6.230740990781683, -6.832984465083257, -9.003224143761905, -11.06311356097409, -6.8824590498205325, -9.286503282907129, -9.47606436848964, -6.749701937743367, -6.445488288514786, -10.133479473194999, -9.335394797857225, -9.138327494689106, -10.509574214077228, -9.101986976576445, -6.7935582173069164, -10.606103512004633, -8.406666861354273, -10.734435183104546, -9.93529934334871, -7.598703562973615, -7.028876608861813, -9.904294664093355, -11.590859150220107, -6.881594709098517, -10.213714089450416, -11.31853528029041, -8.788756449157676, -9.220660225558413, -7.638961545021173, -6.874065711868065, -7.113938266149697, -11.125086777555573, -11.712625142445034, -6.3586342413485095, -6.839698548386412, -8.541372172016018, -8.216523091155185, -10.872194065650818, -7.5708304083812195, -8.163663293926946, -9.697589179796562, -7.085054727034381, -9.884555892839085, -10.17990751957029, -11.066741461210942, -9.867668333352087, -9.814100300272427, -9.511198050990334, -9.249617403656575, -6.974315554428268, -7.655713726107214, -7.453263170878509, -10.066430026826872, -7.865109108870868, -6.783638395571529, -7.716546127463602, -6.536777700376809, -7.4673915423363635, -6.903947894360391, -11.21686409231406, -7.246593387485852, -10.921816102860506, -10.282239124743851, -9.388947377371698, -10.158279579439261, -7.23114845482359, -12.687136422837941, -6.614961356257066, -9.11375152785984, -10.292906383250195, -8.641069173459087, -7.365837474904994, -7.904227550018245, -7.45016537846875, -7.287116029018019, -8.838585119870032, -9.18951176000586, -9.578370349498273, -7.042941962874664, -2.7478721364224903, -6.863346287145037, -6.887901721589927, -9.48575806104132, -8.954246232507165, -6.738886087534274, -10.224721532802928, -10.43001785195329, -7.077042419263762, -6.727396667715192, -7.553912267183739, -10.013997208849633, -6.76790725312968, -7.846507143399583, -10.8122762864132, -7.655384670507075, -7.430134320430124]\n"
     ]
    }
   ],
   "source": [
    "print(mag_listg)"
   ]
  },
  {
   "cell_type": "code",
   "execution_count": 9,
   "id": "6a5f1b07",
   "metadata": {},
   "outputs": [
    {
     "data": {
      "image/png": "[encoded data removed]",
      "text/plain": [
       "<Figure size 432x288 with 1 Axes>"
      ]
     },
     "metadata": {
      "needs_background": "light"
     },
     "output_type": "display_data"
    }
   ],
   "source": [
    "plt.title('(B-V) Color-Magnitude Plot')\n",
    "plt.xlabel('B-V')\n",
    "plt.ylabel('Mag')\n",
    "plt.plot(BV_list, mag_listg, '.', color = 'red')\n",
    "plt.gca().invert_yaxis()"
   ]
  },
  {
   "cell_type": "code",
   "execution_count": null,
   "id": "86ef9053",
   "metadata": {},
   "outputs": [],
   "source": []
  }
 ],
 "metadata": {
  "kernelspec": {
   "display_name": "Python 3 (ipykernel)",
   "language": "python",
   "name": "python3"
  },
  "language_info": {
   "codemirror_mode": {
    "name": "ipython",
    "version": 3
   },
   "file_extension": ".py",
   "mimetype": "text/x-python",
   "name": "python",
   "nbconvert_exporter": "python",
   "pygments_lexer": "ipython3",
   "version": "3.9.7"
  }
 },
 "nbformat": 4,
 "nbformat_minor": 5
}
