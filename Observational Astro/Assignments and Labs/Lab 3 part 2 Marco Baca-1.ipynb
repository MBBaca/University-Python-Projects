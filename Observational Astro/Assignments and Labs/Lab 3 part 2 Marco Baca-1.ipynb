{
 "cells": [
  {
   "cell_type": "code",
   "execution_count": null,
   "metadata": {},
   "outputs": [],
   "source": [
    "from photutils import datasets\n",
    "import matplotlib.pyplot as plt\n",
    "import numpy as np\n",
    "from astropy.io import fits\n",
    "from astropy.utils.data import download_file\n",
    "\n",
    "\n",
    "hdu_list = fits.open('messier48_20210218_055801_0_xz21lf_b_cal.fit')\n",
    "hdu_list.info()"
   ]
  },
  {
   "cell_type": "code",
   "execution_count": null,
   "metadata": {},
   "outputs": [],
   "source": [
    "image_data = hdu_list[0].data\n",
    "\n",
    "plt.figure()\n",
    "plt.imshow(image_data, cmap = 'Greys', origin = 'lower', vmin = 500, vmax = 1000)"
   ]
  },
  {
   "cell_type": "code",
   "execution_count": null,
   "metadata": {},
   "outputs": [],
   "source": [
    "from astropy.table import QTable, Table, Column\n",
    "from astropy import units as u\n",
    "\n",
    "#Here, you need to pick the coordinates for a star on the CCD image. But something doesn't look quite right...\n",
    "a = np.array([671])\n",
    "b = np.array([460])\n",
    "t = Table([a, b], names = ('xcentroid', 'ycentroid'))\n",
    "loc = np.array([t['xcentroid'], t['ycentroid']])\n",
    "positions = np.transpose(loc)"
   ]
  },
  {
   "cell_type": "code",
   "execution_count": null,
   "metadata": {},
   "outputs": [],
   "source": [
    "from photutils import CircularAperture\n",
    "from photutils import aperture_photometry\n",
    "from photutils import CircularAnnulus\n",
    "\n",
    "#These inner and outer radii are no good. What might be more reasonable?\n",
    "#apertures = CircularAperture(positions, r=5.)\n",
    "annulus_apertures = CircularAnnulus(positions, r_in = 12, r_out = 17)\n",
    "\n",
    "\n",
    "\n",
    "\n",
    "#Do the photometry to get the number of counts in the annulus\n",
    "#annulus =\n",
    "annulus = aperture_photometry(image_data, annulus_apertures)\n",
    "\n",
    "for col in annulus.colnames:\n",
    "    annulus[col].info.format = '%.8g'\n",
    "    \n",
    "annulus"
   ]
  },
  {
   "cell_type": "code",
   "execution_count": null,
   "metadata": {},
   "outputs": [],
   "source": [
    "Star_count_list = []\n",
    "aperture_sum_list = []\n",
    "annulus_sum_list = []\n",
    "bkg_list = []\n",
    "\n",
    "radii = [1,2,3,4,5,6,7,8,9,10,11] #Right now this is only running for one aperture radius. You need to do photometry for radii from r = 1. pixel up to r=11 pixels.\n",
    "\n",
    "for r in radii:\n",
    "    apertures = CircularAperture(positions, r = r)\n",
    "    phot_table1 = aperture_photometry(image_data, apertures)\n",
    "    \n",
    "    for col in phot_table1.colnames:\n",
    "        phot_table1[col].info.format = '%.8g'\n",
    "        \n",
    "    annulus_apertures = CircularAnnulus(positions, r_in = 12, r_out = 17) #annulus inner and outer radii seem wonky too.\n",
    "    apers = [apertures, annulus_apertures]\n",
    "    phot_table = aperture_photometry(image_data, apers)\n",
    "    \n",
    "    for col in phot_table.colnames:\n",
    "        phot_table[col].info.format = '%.8g'\n",
    "    print(phot_table)\n",
    "        \n",
    "    bkg_mean = phot_table['aperture_sum_1'] / annulus_apertures.area\n",
    "    bkg_sum = bkg_mean * apertures.area\n",
    "    final_sum = phot_table['aperture_sum_0'] - bkg_sum\n",
    "    \n",
    "    Star_count_list.append(final_sum)\n",
    "    aperture_sum_list.append(phot_table['aperture_sum_0'])\n",
    "    annulus_sum_list.append(phot_table['aperture_sum_1'])\n",
    "    bkg_list.append(bkg_sum)\n",
    "    "
   ]
  },
  {
   "cell_type": "code",
   "execution_count": null,
   "metadata": {},
   "outputs": [],
   "source": [
    "print(Star_count_list[0])\n",
    "print(Star_count_list[1])\n",
    "print(Star_count_list[2])\n",
    "print(Star_count_list[3])\n",
    "print(Star_count_list[4])\n",
    "print(Star_count_list[5])\n",
    "print(Star_count_list[6])\n",
    "print(Star_count_list[7])\n",
    "print(Star_count_list[8])\n",
    "print(Star_count_list[9])\n",
    "print(Star_count_list[10])"
   ]
  },
  {
   "cell_type": "code",
   "execution_count": null,
   "metadata": {},
   "outputs": [],
   "source": [
    "print(bkg_list[0])\n",
    "print(bkg_list[1])\n",
    "print(bkg_list[2])\n",
    "print(bkg_list[3])\n",
    "print(bkg_list[4])\n",
    "print(bkg_list[5])\n",
    "print(bkg_list[6])\n",
    "print(bkg_list[7])\n",
    "print(bkg_list[8])\n",
    "print(bkg_list[9])\n",
    "print(bkg_list[10])"
   ]
  },
  {
   "cell_type": "code",
   "execution_count": null,
   "metadata": {},
   "outputs": [],
   "source": [
    "bkg_mean = annulus['aperture_sum'] / annulus_apertures.area\n",
    "bkg_sum = bkg_mean * apertures.area\n",
    "#bkg_mean\n",
    "#bkg_sum"
   ]
  },
  {
   "cell_type": "code",
   "execution_count": null,
   "metadata": {},
   "outputs": [],
   "source": [
    "import math as math\n",
    "\n",
    "#Star_count_list = []\n",
    "#aperture_sum_list = []\n",
    "#annulus_sum_list = []\n",
    "#bkg_list = []\n",
    "\n",
    "gain = 1.5399999618530273\n",
    "\n",
    "#something's off about this SNR calculation. What do you need to include?\n",
    "SNR1 = (gain * Star_count_list[0]) / (math.sqrt(gain * Star_count_list[0] + gain * bkg_list[0]))\n",
    "SNR2 = (gain * Star_count_list[1]) / (math.sqrt(gain * Star_count_list[1] + gain * bkg_list[1]))\n",
    "SNR3 = (gain * Star_count_list[2]) / (math.sqrt(gain * Star_count_list[2] + gain * bkg_list[2]))\n",
    "SNR4 = (gain * Star_count_list[3]) / (math.sqrt(gain * Star_count_list[3] + gain * bkg_list[3]))\n",
    "SNR5 = (gain * Star_count_list[4]) / (math.sqrt(gain * Star_count_list[4] + gain * bkg_list[4]))\n",
    "SNR6 = (gain * Star_count_list[5]) / (math.sqrt(gain * Star_count_list[5] + gain * bkg_list[5]))\n",
    "SNR7 = (gain * Star_count_list[6]) / (math.sqrt(gain * Star_count_list[6] + gain * bkg_list[6]))\n",
    "SNR8 = (gain * Star_count_list[7]) / (math.sqrt(gain * Star_count_list[7] + gain * bkg_list[7]))\n",
    "SNR9 = (gain * Star_count_list[8]) / (math.sqrt(gain * Star_count_list[8] + gain * bkg_list[8]))\n",
    "SNR10 = (gain * Star_count_list[9]) / (math.sqrt(gain * Star_count_list[9] + gain * bkg_list[9]))\n",
    "SNR11 = (gain * Star_count_list[10]) / (math.sqrt(gain * Star_count_list[10] + gain * bkg_list[10]))\n",
    "\n",
    "#Also, you're missing a few. What are they going to look like?\n",
    "SNR_list = [SNR1, SNR2, SNR3, SNR4, SNR5, SNR6, SNR7, SNR8, SNR9, SNR10, SNR11]"
   ]
  },
  {
   "cell_type": "code",
   "execution_count": null,
   "metadata": {},
   "outputs": [],
   "source": [
    "t = 25\n",
    "#magnitude calculations. How do you translate the instrumental magnitude equation to work in python?\n",
    "Mag1 = -2.5 * math.log10(Star_count_list[0]) + math.log10(t)\n",
    "Mag2 = -2.5 * math.log10(Star_count_list[1]) + math.log10(t)\n",
    "Mag3 = -2.5 * math.log10(Star_count_list[2]) + math.log10(t)\n",
    "Mag4 = -2.5 * math.log10(Star_count_list[3]) + math.log10(t)\n",
    "Mag5 = -2.5 * math.log10(Star_count_list[4]) + math.log10(t)\n",
    "Mag6 = -2.5 * math.log10(Star_count_list[5]) + math.log10(t)\n",
    "Mag7 = -2.5 * math.log10(Star_count_list[6]) + math.log10(t)\n",
    "Mag8 = -2.5 * math.log10(Star_count_list[7]) + math.log10(t)\n",
    "Mag9 = -2.5 * math.log10(Star_count_list[8]) + math.log10(t)\n",
    "Mag10 = -2.5 * math.log10(Star_count_list[9]) + math.log10(t)\n",
    "Mag11 = -2.5 * math.log10(Star_count_list[10]) + math.log10(t)\n",
    "\n",
    "Mag_list = [Mag1, Mag2, Mag3, Mag4, Mag5, Mag6, Mag7, Mag8, Mag9, Mag10, Mag11]"
   ]
  },
  {
   "cell_type": "code",
   "execution_count": null,
   "metadata": {},
   "outputs": [],
   "source": [
    "plt.scatter(radii, SNR_list)"
   ]
  },
  {
   "cell_type": "code",
   "execution_count": null,
   "metadata": {},
   "outputs": [],
   "source": [
    "plt.scatter(radii, Mag_list) #remember, magnitudes are backwards. fix this so brighter is at the top.\n",
    "plt.gca().invert_yaxis()\n",
    "plt.xlabel('Aperture size')\n",
    "plt.ylabel('Magnitude')"
   ]
  },
  {
   "cell_type": "code",
   "execution_count": null,
   "metadata": {},
   "outputs": [],
   "source": []
  }
 ],
 "metadata": {
  "kernelspec": {
   "display_name": "Python 3 (ipykernel)",
   "language": "python",
   "name": "python3"
  },
  "language_info": {
   "codemirror_mode": {
    "name": "ipython",
    "version": 3
   },
   "file_extension": ".py",
   "mimetype": "text/x-python",
   "name": "python",
   "nbconvert_exporter": "python",
   "pygments_lexer": "ipython3",
   "version": "3.9.7"
  }
 },
 "nbformat": 4,
 "nbformat_minor": 4
}
