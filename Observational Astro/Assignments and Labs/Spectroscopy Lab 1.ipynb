{
 "cells": [
  {
   "cell_type": "code",
   "execution_count": 1,
   "id": "7b82a052",
   "metadata": {},
   "outputs": [
    {
     "name": "stdout",
     "output_type": "stream",
     "text": [
      "499999999999999.94\n",
      "599999999999999.9\n",
      "749999999999999.9\n"
     ]
    }
   ],
   "source": [
    "import math\n",
    "import pandas as pd\n",
    "import numpy as np\n",
    "\n",
    "c = 3 * 10**8\n",
    "T = 5773\n",
    "h = 6.62 * 10**(-34)\n",
    "k = 1.38 * 10**(-23)\n",
    "\n",
    "lambda1 = 600 * 10**(-9)\n",
    "lambda2 = 500 * 10**(-9)\n",
    "lambda3 = 400 * 10**(-9)\n",
    "\n",
    "v1 = c / lambda1\n",
    "v2 = c / lambda2\n",
    "v3 = c / lambda3\n",
    "\n",
    "print(v1)\n",
    "print(v2)\n",
    "print(v3)"
   ]
  },
  {
   "cell_type": "markdown",
   "id": "2acbb709",
   "metadata": {},
   "source": [
    "Above are our constants and the values we used, it also includes the equations we used to solve for frequency. I began with redoing problem 6 from Homework 1 so I could get a better understanding of how to setup numerical integration."
   ]
  },
  {
   "cell_type": "code",
   "execution_count": 2,
   "id": "ca5f45d5",
   "metadata": {},
   "outputs": [
    {
     "name": "stdout",
     "output_type": "stream",
     "text": [
      "6812813.269058177\n"
     ]
    }
   ],
   "source": [
    "dv = 100000000\n",
    "F_B = 0\n",
    "while v2 <= v3:\n",
    "    \n",
    "    Bv_B = ((2* h * v2**3) / (c**2 * (math.exp(((h*v2)/(k*T))-1)))) * dv\n",
    "    \n",
    "    F_B = F_B + Bv_B\n",
    "    \n",
    "    v2 = v2 + dv\n",
    "    \n",
    "v2 = c / lambda2   \n",
    "print(F_B)"
   ]
  },
  {
   "cell_type": "markdown",
   "id": "b5086213",
   "metadata": {},
   "source": [
    "Since the range of the blue spectrum (B) is from wavelength of 400nm to 500nm we use v2 and v3 as our bounds of integration. These frequency bounds are the values that correspond to the wavelengths. In this while loop, we approximate the integral by calculating B_v(T) for the blue spectrum by using numerical integration. This integration is done by calculating the Bv value at a particular frequency (this is the height of the rectangle) and multiply it by its change in frequency (dv or the width of the rectangle). By doing this operation, we get an approximation of the area under the curve for the Bv function as v changes which gives us the Flux."
   ]
  },
  {
   "cell_type": "code",
   "execution_count": 3,
   "id": "cc1bc835",
   "metadata": {},
   "outputs": [
    {
     "name": "stdout",
     "output_type": "stream",
     "text": [
      "6884257.570995692\n"
     ]
    }
   ],
   "source": [
    "F_V = 0\n",
    "while v1 <= v2:\n",
    "    \n",
    "    Bv_V = ((2* h * v1**3) / (c**2 * (math.exp(((h*v1)/(k*T))-1)))) * dv\n",
    "    \n",
    "    F_V = F_V + Bv_V\n",
    "    \n",
    "    v1 = v1 + dv\n",
    "    \n",
    "v1 = c / lambda1\n",
    "print(F_V)"
   ]
  },
  {
   "cell_type": "markdown",
   "id": "dde4c2a5",
   "metadata": {},
   "source": [
    "In the cell above, I did the exact same thing as the prior one, but I did my integration from the green spectrum range of frequencies."
   ]
  },
  {
   "cell_type": "code",
   "execution_count": 4,
   "id": "f99ad0c8",
   "metadata": {},
   "outputs": [
    {
     "name": "stdout",
     "output_type": "stream",
     "text": [
      "0.989622075989934\n"
     ]
    }
   ],
   "source": [
    "R = F_B / F_V\n",
    "print(R)"
   ]
  },
  {
   "cell_type": "code",
   "execution_count": 5,
   "id": "845b03e6",
   "metadata": {},
   "outputs": [
    {
     "name": "stdout",
     "output_type": "stream",
     "text": [
      "0.011326563121769072\n"
     ]
    }
   ],
   "source": [
    "BV = -2.5 * math.log10(R)\n",
    "print(BV)"
   ]
  },
  {
   "cell_type": "markdown",
   "id": "82cb2e9d",
   "metadata": {},
   "source": [
    "The values above give us the BV value and solves for problem 6.\n",
    "\n",
    "In the cell below I do the integration for the full solar spectrum."
   ]
  },
  {
   "cell_type": "code",
   "execution_count": 6,
   "id": "df6c5c03",
   "metadata": {},
   "outputs": [
    {
     "data": {
      "text/html": [
       "<div>\n",
       "<style scoped>\n",
       "    .dataframe tbody tr th:only-of-type {\n",
       "        vertical-align: middle;\n",
       "    }\n",
       "\n",
       "    .dataframe tbody tr th {\n",
       "        vertical-align: top;\n",
       "    }\n",
       "\n",
       "    .dataframe thead th {\n",
       "        text-align: right;\n",
       "    }\n",
       "</style>\n",
       "<table border=\"1\" class=\"dataframe\">\n",
       "  <thead>\n",
       "    <tr style=\"text-align: right;\">\n",
       "      <th></th>\n",
       "      <th>v</th>\n",
       "      <th>I_v</th>\n",
       "      <th>Unnamed: 2</th>\n",
       "      <th>Unnamed: 3</th>\n",
       "    </tr>\n",
       "  </thead>\n",
       "  <tbody>\n",
       "    <tr>\n",
       "      <th>0</th>\n",
       "      <td>0.000000e+00</td>\n",
       "      <td>0.000000e+00</td>\n",
       "      <td>NaN</td>\n",
       "      <td>2.997925e+08</td>\n",
       "    </tr>\n",
       "    <tr>\n",
       "      <th>1</th>\n",
       "      <td>1.000000e+11</td>\n",
       "      <td>1.780000e-14</td>\n",
       "      <td>NaN</td>\n",
       "      <td>6.630000e-34</td>\n",
       "    </tr>\n",
       "    <tr>\n",
       "      <th>2</th>\n",
       "      <td>2.000000e+11</td>\n",
       "      <td>7.120000e-14</td>\n",
       "      <td>NaN</td>\n",
       "      <td>1.380000e-23</td>\n",
       "    </tr>\n",
       "    <tr>\n",
       "      <th>3</th>\n",
       "      <td>3.000000e+11</td>\n",
       "      <td>1.600000e-13</td>\n",
       "      <td>NaN</td>\n",
       "      <td>NaN</td>\n",
       "    </tr>\n",
       "    <tr>\n",
       "      <th>4</th>\n",
       "      <td>4.000000e+11</td>\n",
       "      <td>2.850000e-13</td>\n",
       "      <td>NaN</td>\n",
       "      <td>NaN</td>\n",
       "    </tr>\n",
       "    <tr>\n",
       "      <th>...</th>\n",
       "      <td>...</td>\n",
       "      <td>...</td>\n",
       "      <td>...</td>\n",
       "      <td>...</td>\n",
       "    </tr>\n",
       "    <tr>\n",
       "      <th>19996</th>\n",
       "      <td>2.000000e+15</td>\n",
       "      <td>7.630000e-12</td>\n",
       "      <td>NaN</td>\n",
       "      <td>NaN</td>\n",
       "    </tr>\n",
       "    <tr>\n",
       "      <th>19997</th>\n",
       "      <td>2.000000e+15</td>\n",
       "      <td>7.620000e-12</td>\n",
       "      <td>NaN</td>\n",
       "      <td>NaN</td>\n",
       "    </tr>\n",
       "    <tr>\n",
       "      <th>19998</th>\n",
       "      <td>2.000000e+15</td>\n",
       "      <td>7.620000e-12</td>\n",
       "      <td>NaN</td>\n",
       "      <td>NaN</td>\n",
       "    </tr>\n",
       "    <tr>\n",
       "      <th>19999</th>\n",
       "      <td>2.000000e+15</td>\n",
       "      <td>7.610000e-12</td>\n",
       "      <td>NaN</td>\n",
       "      <td>NaN</td>\n",
       "    </tr>\n",
       "    <tr>\n",
       "      <th>20000</th>\n",
       "      <td>2.000000e+15</td>\n",
       "      <td>7.610000e-12</td>\n",
       "      <td>NaN</td>\n",
       "      <td>NaN</td>\n",
       "    </tr>\n",
       "  </tbody>\n",
       "</table>\n",
       "<p>20001 rows × 4 columns</p>\n",
       "</div>"
      ],
      "text/plain": [
       "                  v           I_v  Unnamed: 2    Unnamed: 3\n",
       "0      0.000000e+00  0.000000e+00         NaN  2.997925e+08\n",
       "1      1.000000e+11  1.780000e-14         NaN  6.630000e-34\n",
       "2      2.000000e+11  7.120000e-14         NaN  1.380000e-23\n",
       "3      3.000000e+11  1.600000e-13         NaN           NaN\n",
       "4      4.000000e+11  2.850000e-13         NaN           NaN\n",
       "...             ...           ...         ...           ...\n",
       "19996  2.000000e+15  7.630000e-12         NaN           NaN\n",
       "19997  2.000000e+15  7.620000e-12         NaN           NaN\n",
       "19998  2.000000e+15  7.620000e-12         NaN           NaN\n",
       "19999  2.000000e+15  7.610000e-12         NaN           NaN\n",
       "20000  2.000000e+15  7.610000e-12         NaN           NaN\n",
       "\n",
       "[20001 rows x 4 columns]"
      ]
     },
     "execution_count": 6,
     "metadata": {},
     "output_type": "execute_result"
    }
   ],
   "source": [
    "pd.read_csv(\"PlanckSun.csv\")"
   ]
  },
  {
   "cell_type": "markdown",
   "id": "41ffcfcd",
   "metadata": {},
   "source": [
    "Here I am just importing the excel file."
   ]
  },
  {
   "cell_type": "code",
   "execution_count": 7,
   "id": "e162f30d",
   "metadata": {},
   "outputs": [
    {
     "data": {
      "text/plain": [
       "Index(['v', 'I_v', 'Unnamed: 2', 'Unnamed: 3'], dtype='object')"
      ]
     },
     "execution_count": 7,
     "metadata": {},
     "output_type": "execute_result"
    }
   ],
   "source": [
    "PlanckSun = pd.read_csv(\"PlanckSun.csv\")\n",
    "PlanckSun.columns"
   ]
  },
  {
   "cell_type": "code",
   "execution_count": 8,
   "id": "9e975177",
   "metadata": {},
   "outputs": [],
   "source": [
    "frequency = []\n",
    "intensity = []"
   ]
  },
  {
   "cell_type": "code",
   "execution_count": 9,
   "id": "099f3cfe",
   "metadata": {},
   "outputs": [
    {
     "name": "stdout",
     "output_type": "stream",
     "text": [
      "100000000000.0\n",
      "64045307.9959605\n"
     ]
    }
   ],
   "source": [
    "for i in range(len(PlanckSun)):\n",
    "    frequency.append(PlanckSun.v[i])\n",
    "    intensity.append(PlanckSun.I_v[i])\n",
    "    \n",
    "print(frequency[1])\n",
    "\n",
    "total_intensity = 0\n",
    "\n",
    "\n",
    "for i in intensity:\n",
    "    total_intensity = frequency[1] * i + total_intensity\n",
    "    \n",
    "total_intensity = total_intensity * np.pi\n",
    "print(total_intensity)"
   ]
  },
  {
   "cell_type": "markdown",
   "id": "f9756a4e",
   "metadata": {},
   "source": [
    "Here we have the data in excel being added to the arrays we made for frequency and intensity. We solve for the total intensity by taking the interval in which the frequency increases for each data point and mulstiplying it by the intensity and summing up all data points. We get the resulting value."
   ]
  },
  {
   "cell_type": "code",
   "execution_count": 10,
   "id": "54f7aafa",
   "metadata": {},
   "outputs": [
    {
     "name": "stdout",
     "output_type": "stream",
     "text": [
      "50321965.55264661\n"
     ]
    }
   ],
   "source": [
    "v = 0\n",
    "dv = 1000000000\n",
    "Iv = 0\n",
    "while v <= 2000000000000000:\n",
    "    \n",
    "    Bv = ((2* h * v**3) / (c**2 * (math.exp(((h*v)/(k*T))-1)))) * dv\n",
    "    \n",
    "    Iv = Iv + Bv\n",
    "    \n",
    "    v = v + dv\n",
    "    \n",
    "print(Iv)"
   ]
  },
  {
   "cell_type": "markdown",
   "id": "6560c589",
   "metadata": {},
   "source": [
    "Another way to solve for the total intensity is to use the specific equation. I start off with a frequency of 0 and add 1E+11 everytime as seen in the excel file and I go up to 2E+15. Similar to the integration I did in the earlier cell, we get an approximation for the intensity of our sun.\n",
    "\n",
    "Here we see that the values are a bit off but not by a whole decimal place."
   ]
  },
  {
   "cell_type": "code",
   "execution_count": null,
   "id": "803e2c56",
   "metadata": {},
   "outputs": [],
   "source": []
  }
 ],
 "metadata": {
  "kernelspec": {
   "display_name": "Python 3 (ipykernel)",
   "language": "python",
   "name": "python3"
  },
  "language_info": {
   "codemirror_mode": {
    "name": "ipython",
    "version": 3
   },
   "file_extension": ".py",
   "mimetype": "text/x-python",
   "name": "python",
   "nbconvert_exporter": "python",
   "pygments_lexer": "ipython3",
   "version": "3.9.7"
  }
 },
 "nbformat": 4,
 "nbformat_minor": 5
}
