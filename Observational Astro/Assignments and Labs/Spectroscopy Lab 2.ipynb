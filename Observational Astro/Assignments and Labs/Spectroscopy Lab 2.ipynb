{
 "cells": [
  {
   "cell_type": "code",
   "execution_count": null,
   "id": "ca8c6746",
   "metadata": {},
   "outputs": [],
   "source": [
    "import math\n",
    "import pandas as pd\n",
    "import numpy as np\n",
    "import matplotlib.pyplot as plt"
   ]
  },
  {
   "cell_type": "code",
   "execution_count": null,
   "id": "c5c84216",
   "metadata": {},
   "outputs": [],
   "source": [
    "pd.read_csv(\"dump_spectra.csv\")"
   ]
  },
  {
   "cell_type": "code",
   "execution_count": null,
   "id": "1a5f6cef",
   "metadata": {},
   "outputs": [],
   "source": [
    "data = pd.read_csv(\"dump_spectra.csv\")"
   ]
  },
  {
   "cell_type": "markdown",
   "id": "a395cea9",
   "metadata": {},
   "source": [
    "Here I just imported dump spectra and named it as data."
   ]
  },
  {
   "cell_type": "code",
   "execution_count": null,
   "id": "cdefd3b3",
   "metadata": {},
   "outputs": [],
   "source": [
    "wavelength0 = []\n",
    "flux0 = []\n",
    "\n",
    "wavelength1 = []\n",
    "flux1 = []\n",
    "\n",
    "wavelength2 = []\n",
    "flux2 = []"
   ]
  },
  {
   "cell_type": "code",
   "execution_count": null,
   "id": "c69a5c26",
   "metadata": {
    "scrolled": true
   },
   "outputs": [],
   "source": [
    "for i in range(len(data)):\n",
    "    wavelength0.append(data.Wavelength[i])\n",
    "    flux0.append(data.FluxDens1[i])\n",
    "    \n",
    "plt.plot(wavelength0, flux0)"
   ]
  },
  {
   "cell_type": "markdown",
   "id": "beb75b71",
   "metadata": {},
   "source": [
    "Throughout the process that I go through, I will need three different arrays for the wavelength and the flux because the list of values are going to change.\n",
    "I also plot the wavelength vs flux which already looks similar to what we're looking for at the end."
   ]
  },
  {
   "cell_type": "code",
   "execution_count": null,
   "id": "c8900331",
   "metadata": {},
   "outputs": [],
   "source": [
    "x = []\n",
    "y = 0\n",
    "\n",
    "while y <= 55000:\n",
    "    \n",
    "    x.append(y)\n",
    "    \n",
    "    y = y + 1\n",
    "\n",
    "y = 0"
   ]
  },
  {
   "cell_type": "code",
   "execution_count": null,
   "id": "e3d48253",
   "metadata": {},
   "outputs": [],
   "source": [
    "len(x)"
   ]
  },
  {
   "cell_type": "code",
   "execution_count": null,
   "id": "87c13da3",
   "metadata": {},
   "outputs": [],
   "source": [
    "flux = .15 * 10**(-9)\n",
    "flux"
   ]
  },
  {
   "cell_type": "code",
   "execution_count": null,
   "id": "178887dc",
   "metadata": {},
   "outputs": [],
   "source": [
    "for i in x:\n",
    "    \n",
    "    if flux < flux0[i]:\n",
    "        \n",
    "        flux1.append(flux0[i])\n",
    "        wavelength1.append(wavelength0[i])"
   ]
  },
  {
   "cell_type": "code",
   "execution_count": null,
   "id": "38894368",
   "metadata": {},
   "outputs": [],
   "source": [
    "len(flux1)"
   ]
  },
  {
   "cell_type": "code",
   "execution_count": null,
   "id": "32d7a4c2",
   "metadata": {},
   "outputs": [],
   "source": [
    "len(wavelength1)\n"
   ]
  },
  {
   "cell_type": "markdown",
   "id": "c06f2017",
   "metadata": {},
   "source": [
    "What I did with the following cells above is that I created an array 'x' of the same size as the data I have. I also appended numbers 1-55001 to it so that I can use it to run a for loop.\n",
    "I define the value 'flux' as some value which will be used as the cutoff for the flux values that I am observing.\n",
    "In the for loop, any flux value in our data that is greater than our defined flux gets appenended to the new flux array and for that same wavelength data point it also gets appended to the new wavelength array."
   ]
  },
  {
   "cell_type": "code",
   "execution_count": null,
   "id": "1a22abd7",
   "metadata": {},
   "outputs": [],
   "source": [
    "z = []\n",
    "y = 0\n",
    "\n",
    "while y < (len(wavelength1) - 1):\n",
    "    \n",
    "    z.append(y)\n",
    "    \n",
    "    y = y + 1"
   ]
  },
  {
   "cell_type": "code",
   "execution_count": null,
   "id": "8f765e0b",
   "metadata": {},
   "outputs": [],
   "source": [
    "len(z)"
   ]
  },
  {
   "cell_type": "markdown",
   "id": "a2d394d4",
   "metadata": {},
   "source": [
    "Similar to what I did with the 'x' array that I used to make the array, I do here with a 'z' array which will always be the size - 1 of the wavelength and flux arrays (it's numbered 1-(size of wavelength array - 1)).\n",
    "If you're wondering why i subtract 1 it's because by doing the numerical integration method, if I'm approximating the value for the last wavelength point, there will be no following value to approximate."
   ]
  },
  {
   "cell_type": "code",
   "execution_count": null,
   "id": "ce87f7b0",
   "metadata": {},
   "outputs": [],
   "source": [
    "flux = 0\n",
    "dl = 0\n",
    "\n",
    "for i in z:\n",
    "    \n",
    "    dl = wavelength1[i + 1] - wavelength1[i]\n",
    "    \n",
    "    if dl < .00005:\n",
    "        flux = flux1[i] * dl\n",
    "    \n",
    "        flux2.append(flux)\n",
    "        wavelength2.append(wavelength1[i])"
   ]
  },
  {
   "cell_type": "code",
   "execution_count": null,
   "id": "8f1a875a",
   "metadata": {},
   "outputs": [],
   "source": [
    "len(flux2)"
   ]
  },
  {
   "cell_type": "code",
   "execution_count": null,
   "id": "0cb8b0df",
   "metadata": {},
   "outputs": [],
   "source": [
    "len(wavelength2)"
   ]
  },
  {
   "cell_type": "markdown",
   "id": "6ca72949",
   "metadata": {},
   "source": [
    "The forloop above represents the numerical integration to find the emitted flux.\n",
    "First I find what the change in wavelength is between datapoints defined as 'dl'. For accuracy purposes, I don't want any datapoints that have a very large 'dl' because it will lead to innacurate data, so I created an if statement to make sure that the dl is less than some value.\n",
    "In the if statement i multiply the specific flux of that point with the change in wavelength.\n",
    "I also append the new values to 'flux2' to create the array of emitted flux and append the corresponding wavelengths to the new wavelength array."
   ]
  },
  {
   "cell_type": "code",
   "execution_count": null,
   "id": "01c25552",
   "metadata": {},
   "outputs": [],
   "source": [
    "plt.plot(wavelength2, flux2)"
   ]
  },
  {
   "cell_type": "markdown",
   "id": "bf8b9a57",
   "metadata": {},
   "source": [
    "Above is what my emitted flux vs wavelength looks like after integration and everything."
   ]
  }
 ],
 "metadata": {
  "kernelspec": {
   "display_name": "Python 3 (ipykernel)",
   "language": "python",
   "name": "python3"
  },
  "language_info": {
   "codemirror_mode": {
    "name": "ipython",
    "version": 3
   },
   "file_extension": ".py",
   "mimetype": "text/x-python",
   "name": "python",
   "nbconvert_exporter": "python",
   "pygments_lexer": "ipython3",
   "version": "3.9.7"
  }
 },
 "nbformat": 4,
 "nbformat_minor": 5
}
