{
 "cells": [
  {
   "cell_type": "code",
   "execution_count": 1,
   "id": "057c95ea",
   "metadata": {},
   "outputs": [],
   "source": [
    "#Creating Aperture Objects"
   ]
  },
  {
   "cell_type": "code",
   "execution_count": 2,
   "id": "7f391cbc",
   "metadata": {},
   "outputs": [],
   "source": [
    "from photutils.aperture import CircularAperture\n",
    "positions = [(30., 30.), (40., 40.)]\n",
    "aperture = CircularAperture(positions, r=3.)\n",
    "\n",
    "from astropy import units as u\n",
    "from astropy.coordinates import SkyCoord\n",
    "from photutils.aperture import SkyCircularAperture\n",
    "positions = SkyCoord(l=[1.2, 2.3] * u.deg, b=[0.1, 0.2] * u.deg, frame='galactic')\n",
    "aperture = SkyCircularAperture(positions, r=4. * u.arcsec)"
   ]
  },
  {
   "cell_type": "markdown",
   "id": "5b24aaa2",
   "metadata": {},
   "source": [
    "Here we create a circular aperture in pixel coodinates. Seen above, we have 2 separate positions, (x,y) (30,30) and (40,40) both having a radius of 3. Next using astropy, we create a circular sky aperture."
   ]
  },
  {
   "cell_type": "code",
   "execution_count": 3,
   "id": "df7993f1",
   "metadata": {},
   "outputs": [],
   "source": [
    "#Performing Aperture Photometry"
   ]
  },
  {
   "cell_type": "code",
   "execution_count": 4,
   "id": "3aa60003",
   "metadata": {},
   "outputs": [],
   "source": [
    "positions = [(30., 30.), (40., 40.)]\n",
    "aperture = CircularAperture(positions, r=3.)"
   ]
  },
  {
   "cell_type": "code",
   "execution_count": 5,
   "id": "4d199109",
   "metadata": {},
   "outputs": [
    {
     "name": "stdout",
     "output_type": "stream",
     "text": [
      " id xcenter ycenter aperture_sum\n",
      "      pix     pix               \n",
      "--- ------- ------- ------------\n",
      "  1    30.0    30.0    28.274334\n",
      "  2    40.0    40.0    28.274334\n"
     ]
    }
   ],
   "source": [
    "import numpy as np\n",
    "from photutils.aperture import aperture_photometry\n",
    "data = np.ones((100, 100))\n",
    "phot_table = aperture_photometry(data, aperture)\n",
    "phot_table['aperture_sum'].info.format = '%.8g'  # for consistent table output\n",
    "print(phot_table)"
   ]
  },
  {
   "cell_type": "code",
   "execution_count": 6,
   "id": "90f66d4f",
   "metadata": {},
   "outputs": [
    {
     "name": "stdout",
     "output_type": "stream",
     "text": [
      "28.274333882308138\n"
     ]
    }
   ],
   "source": [
    "print(np.pi * 3. ** 2)"
   ]
  },
  {
   "cell_type": "markdown",
   "id": "d5fa59dc",
   "metadata": {},
   "source": [
    "We first define the positions we want for our apertures and how big the radius is. Since we are using a 100x100 frame we define data as an array of 100x100. We result with the position of the apertures and their sum of light received. Since each value is 1 the sum is equal to the area of each aperture as seen above."
   ]
  },
  {
   "cell_type": "code",
   "execution_count": 7,
   "id": "bc8a6c18",
   "metadata": {},
   "outputs": [],
   "source": [
    "#Aperture and Pixel Overlap"
   ]
  },
  {
   "cell_type": "code",
   "execution_count": 8,
   "id": "81c7fbf9",
   "metadata": {},
   "outputs": [
    {
     "name": "stdout",
     "output_type": "stream",
     "text": [
      " id xcenter ycenter aperture_sum\n",
      "      pix     pix               \n",
      "--- ------- ------- ------------\n",
      "  1    30.0    30.0        27.96\n",
      "  2    40.0    40.0        27.96\n"
     ]
    }
   ],
   "source": [
    ">>> phot_table = aperture_photometry(data, aperture, method='subpixel',\n",
    "...                                  subpixels=5)\n",
    ">>> print(phot_table)"
   ]
  },
  {
   "cell_type": "markdown",
   "id": "2aa9ece0",
   "metadata": {},
   "source": [
    "Here we have the same data as the data used in the prior cells, but we use subpixels instead of the exact method to get the number of pixels in the aperture. The subpixel method is faster but not as precise since it only takes into account subpixels whos centers are within the aperture, that's why we see a smaller result than the number from before."
   ]
  },
  {
   "cell_type": "code",
   "execution_count": 9,
   "id": "6122042c",
   "metadata": {},
   "outputs": [],
   "source": [
    "#Multiple Apertures at Each Position"
   ]
  },
  {
   "cell_type": "code",
   "execution_count": 10,
   "id": "2e738e2c",
   "metadata": {},
   "outputs": [
    {
     "name": "stdout",
     "output_type": "stream",
     "text": [
      " id xcenter ycenter aperture_sum_0 aperture_sum_1 aperture_sum_2\n",
      "      pix     pix                                               \n",
      "--- ------- ------- -------------- -------------- --------------\n",
      "  1      30      30      28.274334      50.265482      78.539816\n",
      "  2      40      40      28.274334      50.265482      78.539816\n"
     ]
    }
   ],
   "source": [
    ">>> radii = [3., 4., 5.]\n",
    ">>> apertures = [CircularAperture(positions, r=r) for r in radii]\n",
    ">>> phot_table = aperture_photometry(data, apertures)\n",
    ">>> for col in phot_table.colnames:\n",
    "...     phot_table[col].info.format = '%.8g'  # for consistent table output\n",
    ">>> print(phot_table)"
   ]
  },
  {
   "cell_type": "markdown",
   "id": "a6df93b2",
   "metadata": {},
   "source": [
    "In the cell above, we use a forloop to run through three different sets of radii and get the aperture sum for all 3 radii for the two apertures we have."
   ]
  },
  {
   "cell_type": "code",
   "execution_count": 11,
   "id": "1ff87853",
   "metadata": {},
   "outputs": [
    {
     "name": "stdout",
     "output_type": "stream",
     "text": [
      " id xcenter ycenter aperture_sum\n",
      "      pix     pix               \n",
      "--- ------- ------- ------------\n",
      "  1      30      30     47.12389\n",
      "  2      40      40     47.12389\n"
     ]
    }
   ],
   "source": [
    ">>> from photutils.aperture import EllipticalAperture\n",
    ">>> a = 5.\n",
    ">>> b = 3.\n",
    ">>> theta = np.pi / 4.\n",
    ">>> apertures = EllipticalAperture(positions, a, b, theta)\n",
    ">>> phot_table = aperture_photometry(data, apertures)\n",
    ">>> for col in phot_table.colnames:\n",
    "...     phot_table[col].info.format = '%.8g'  # for consistent table output\n",
    ">>> print(phot_table)"
   ]
  },
  {
   "cell_type": "markdown",
   "id": "ef9de0e0",
   "metadata": {},
   "source": [
    "Here we create an elliptical aperture where we need to define its boundries in eliptacal coordinates, (a,b,theta) and with the following values we got the following swum."
   ]
  },
  {
   "cell_type": "code",
   "execution_count": 12,
   "id": "5c823e26",
   "metadata": {},
   "outputs": [
    {
     "name": "stdout",
     "output_type": "stream",
     "text": [
      " id xcenter ycenter aperture_sum_0 aperture_sum_1 aperture_sum_2\n",
      "      pix     pix                                               \n",
      "--- ------- ------- -------------- -------------- --------------\n",
      "  1      30      30       47.12389      75.398224      109.95574\n",
      "  2      40      40       47.12389      75.398224      109.95574\n"
     ]
    }
   ],
   "source": [
    ">>> a = [5., 6., 7.]\n",
    ">>> b = [3., 4., 5.]\n",
    ">>> theta = np.pi / 4.\n",
    ">>> apertures = [EllipticalAperture(positions, a=ai, b=bi, theta=theta)\n",
    "...              for (ai, bi) in zip(a, b)]\n",
    ">>> phot_table = aperture_photometry(data, apertures)\n",
    ">>> for col in phot_table.colnames:\n",
    "...     phot_table[col].info.format = '%.8g'  # for consistent table output\n",
    ">>> print(phot_table)"
   ]
  },
  {
   "cell_type": "markdown",
   "id": "b340e115",
   "metadata": {},
   "source": [
    "Here is another example of how to use an array and create a for loop that gets the aperture sum for each elliptical aperture with different a and b values."
   ]
  },
  {
   "cell_type": "code",
   "execution_count": 13,
   "id": "207047a2",
   "metadata": {},
   "outputs": [],
   "source": [
    "#Background Subtraction"
   ]
  },
  {
   "cell_type": "code",
   "execution_count": 14,
   "id": "0358e5ec",
   "metadata": {},
   "outputs": [
    {
     "ename": "NameError",
     "evalue": "name 'bkg' is not defined",
     "output_type": "error",
     "traceback": [
      "\u001b[1;31m---------------------------------------------------------------------------\u001b[0m",
      "\u001b[1;31mNameError\u001b[0m                                 Traceback (most recent call last)",
      "\u001b[1;32m~\\AppData\\Local\\Temp/ipykernel_27524/2308411198.py\u001b[0m in \u001b[0;36m<module>\u001b[1;34m\u001b[0m\n\u001b[1;32m----> 1\u001b[1;33m \u001b[0mphot_table\u001b[0m \u001b[1;33m=\u001b[0m \u001b[0maperture_photometry\u001b[0m\u001b[1;33m(\u001b[0m\u001b[0mdata\u001b[0m \u001b[1;33m-\u001b[0m \u001b[0mbkg\u001b[0m\u001b[1;33m,\u001b[0m \u001b[0maperture\u001b[0m\u001b[1;33m)\u001b[0m\u001b[1;33m\u001b[0m\u001b[1;33m\u001b[0m\u001b[0m\n\u001b[0m",
      "\u001b[1;31mNameError\u001b[0m: name 'bkg' is not defined"
     ]
    }
   ],
   "source": [
    ">>> phot_table = aperture_photometry(data - bkg, aperture)  "
   ]
  },
  {
   "cell_type": "code",
   "execution_count": 15,
   "id": "58f46b7f",
   "metadata": {},
   "outputs": [],
   "source": [
    ">>> from photutils.aperture import CircularAnnulus\n",
    ">>> aperture = CircularAperture(positions, r=3)\n",
    ">>> annulus_aperture = CircularAnnulus(positions, r_in=6., r_out=8.)"
   ]
  },
  {
   "cell_type": "markdown",
   "id": "6721a2fa",
   "metadata": {},
   "source": [
    "In the cell above we create the local background by creating a circular annulus with the given inner and outer radii."
   ]
  },
  {
   "cell_type": "code",
   "execution_count": 16,
   "id": "003894fc",
   "metadata": {},
   "outputs": [
    {
     "name": "stdout",
     "output_type": "stream",
     "text": [
      " id xcenter ycenter aperture_sum_0 aperture_sum_1\n",
      "      pix     pix                                \n",
      "--- ------- ------- -------------- --------------\n",
      "  1      30      30      28.274334      87.964594\n",
      "  2      40      40      28.274334      87.964594\n"
     ]
    }
   ],
   "source": [
    ">>> apers = [aperture, annulus_aperture]\n",
    ">>> phot_table = aperture_photometry(data, apers)\n",
    ">>> for col in phot_table.colnames:\n",
    "...     phot_table[col].info.format = '%.8g'  # for consistent table output\n",
    ">>> print(phot_table)"
   ]
  },
  {
   "cell_type": "markdown",
   "id": "6ab47a4e",
   "metadata": {},
   "source": [
    "Aperture sum 1 is the area contained in the annulus."
   ]
  },
  {
   "cell_type": "code",
   "execution_count": 17,
   "id": "5605fe08",
   "metadata": {},
   "outputs": [],
   "source": [
    ">>> bkg_mean = phot_table['aperture_sum_1'] / annulus_aperture.area"
   ]
  },
  {
   "cell_type": "code",
   "execution_count": 18,
   "id": "733e951b",
   "metadata": {},
   "outputs": [
    {
     "name": "stdout",
     "output_type": "stream",
     "text": [
      "residual_aperture_sum\n",
      "---------------------\n",
      "       -1.0658141e-14\n",
      "       -1.0658141e-14\n"
     ]
    }
   ],
   "source": [
    ">>> bkg_sum = bkg_mean * aperture.area\n",
    ">>> final_sum = phot_table['aperture_sum_0'] - bkg_sum\n",
    ">>> phot_table['residual_aperture_sum'] = final_sum\n",
    ">>> phot_table['residual_aperture_sum'].info.format = '%.8g'  # for consistent table output\n",
    ">>> print(phot_table['residual_aperture_sum'])  "
   ]
  },
  {
   "cell_type": "markdown",
   "id": "331e70cf",
   "metadata": {},
   "source": [
    "The method we used above is the photometry method you'd use to subtract the background. We got 0 when we subtracted the aperture sum with the background sum but that was becuase the sum is equal to its area since it just uses values of 1."
   ]
  },
  {
   "cell_type": "code",
   "execution_count": 19,
   "id": "c1fcebe5",
   "metadata": {},
   "outputs": [],
   "source": [
    ">>> from photutils.datasets import make_100gaussians_image\n",
    ">>> from photutils.aperture import CircularAperture, CircularAnnulus\n",
    ">>> data = make_100gaussians_image()\n",
    ">>> positions = [(145.1, 168.3), (84.5, 224.1), (48.3, 200.3)]\n",
    ">>> aperture = CircularAperture(positions, r=5)\n",
    ">>> annulus_aperture = CircularAnnulus(positions, r_in=10, r_out=15)"
   ]
  },
  {
   "cell_type": "markdown",
   "id": "979b9b5f",
   "metadata": {},
   "source": [
    "Here we import an image and select three stars on the image with the given locations as 'positions'. We use an aperture radius of 5 and anulu of inner radius 10 and outer radius 15."
   ]
  },
  {
   "cell_type": "code",
   "execution_count": 20,
   "id": "58a9b4d9",
   "metadata": {},
   "outputs": [],
   "source": [
    ">>> annulus_masks = annulus_aperture.to_mask(method='center')"
   ]
  },
  {
   "cell_type": "code",
   "execution_count": 21,
   "id": "7634f5fb",
   "metadata": {},
   "outputs": [
    {
     "data": {
      "text/plain": [
       "<matplotlib.colorbar.Colorbar at 0x2454923fcd0>"
      ]
     },
     "execution_count": 21,
     "metadata": {},
     "output_type": "execute_result"
    },
    {
     "data": {
      "image/png": "[encoded data removed]",
      "text/plain": [
       "<Figure size 432x288 with 2 Axes>"
      ]
     },
     "metadata": {
      "needs_background": "light"
     },
     "output_type": "display_data"
    }
   ],
   "source": [
    ">>> import matplotlib.pyplot as plt\n",
    ">>> plt.imshow(annulus_masks[0], interpolation='nearest')\n",
    ">>> plt.colorbar()"
   ]
  },
  {
   "cell_type": "markdown",
   "id": "d1cd2226",
   "metadata": {},
   "source": [
    "What we did here is we used the 'mask' function to isolate the annulus and since we used the 'center' method, we only get values of 0 or 1. As you can see, it plots out the whole annulus with the dimensions it was given."
   ]
  },
  {
   "cell_type": "code",
   "execution_count": 22,
   "id": "262c275f",
   "metadata": {},
   "outputs": [
    {
     "data": {
      "text/plain": [
       "<matplotlib.colorbar.Colorbar at 0x2454939adf0>"
      ]
     },
     "execution_count": 22,
     "metadata": {},
     "output_type": "execute_result"
    },
    {
     "data": {
      "image/png": "[encoded data removed]",
      "text/plain": [
       "<Figure size 432x288 with 2 Axes>"
      ]
     },
     "metadata": {
      "needs_background": "light"
     },
     "output_type": "display_data"
    }
   ],
   "source": [
    ">>> annulus_data = annulus_masks[0].multiply(data)\n",
    ">>> plt.imshow(annulus_data, interpolation='nearest')\n",
    ">>> plt.colorbar()"
   ]
  },
  {
   "cell_type": "markdown",
   "id": "8ed9d265",
   "metadata": {},
   "source": [
    "By using the 'multiply(data)' function, we get the values of the pixels in the annulus"
   ]
  },
  {
   "cell_type": "code",
   "execution_count": 23,
   "id": "d0a3bc79",
   "metadata": {},
   "outputs": [
    {
     "data": {
      "text/plain": [
       "(394,)"
      ]
     },
     "execution_count": 23,
     "metadata": {},
     "output_type": "execute_result"
    }
   ],
   "source": [
    ">>> mask = annulus_masks[0].data\n",
    ">>> annulus_data_1d = annulus_data[mask > 0]\n",
    ">>> annulus_data_1d.shape"
   ]
  },
  {
   "cell_type": "code",
   "execution_count": 24,
   "id": "6b2dbc34",
   "metadata": {},
   "outputs": [
    {
     "name": "stdout",
     "output_type": "stream",
     "text": [
      "4.848212997882959\n"
     ]
    }
   ],
   "source": [
    ">>> from astropy.stats import sigma_clipped_stats\n",
    ">>> _, median_sigclip, _ = sigma_clipped_stats(annulus_data_1d)\n",
    ">>> print(median_sigclip)"
   ]
  },
  {
   "cell_type": "code",
   "execution_count": 25,
   "id": "07c99c09",
   "metadata": {},
   "outputs": [
    {
     "name": "stdout",
     "output_type": "stream",
     "text": [
      "380.7777584296913\n"
     ]
    }
   ],
   "source": [
    ">>> background = median_sigclip * aperture.area\n",
    ">>> print(background) "
   ]
  },
  {
   "cell_type": "markdown",
   "id": "2d9494de",
   "metadata": {},
   "source": [
    "In the first cell after the image, we sort all of the data points into a 1D array which gives us a sum of 394. With the 'sigma_clipped_stats' function, we get the median value of the background which is 4.84. With this we can find the background by multiply the average value of the background by the aperture area which gives us a value of 380.7."
   ]
  },
  {
   "cell_type": "code",
   "execution_count": 26,
   "id": "69beb29f",
   "metadata": {},
   "outputs": [
    {
     "name": "stdout",
     "output_type": "stream",
     "text": [
      " id xcenter ycenter aperture_sum annulus_median  aper_bkg aper_sum_bkgsub\n",
      "      pix     pix                                                        \n",
      "--- ------- ------- ------------ -------------- --------- ---------------\n",
      "  1   145.1   168.3    1131.5794       4.848213 380.77776       750.80166\n",
      "  2    84.5   224.1    746.16064      5.0884354 399.64478       346.51586\n",
      "  3    48.3   200.3    1250.2186      4.8060599 377.46706        872.7515\n"
     ]
    }
   ],
   "source": [
    ">>> from astropy.stats import sigma_clipped_stats\n",
    ">>> from photutils.aperture import aperture_photometry\n",
    ">>> from photutils.aperture import CircularAperture, CircularAnnulus\n",
    ">>> from photutils.datasets import make_100gaussians_image\n",
    ">>>\n",
    ">>> data = make_100gaussians_image()\n",
    ">>> positions = [(145.1, 168.3), (84.5, 224.1), (48.3, 200.3)]\n",
    ">>> aperture = CircularAperture(positions, r=5)\n",
    ">>> annulus_aperture = CircularAnnulus(positions, r_in=10, r_out=15)\n",
    ">>> annulus_masks = annulus_aperture.to_mask(method='center')\n",
    ">>>\n",
    ">>> bkg_median = []\n",
    ">>> for mask in annulus_masks:\n",
    "...     annulus_data = mask.multiply(data)\n",
    "...     annulus_data_1d = annulus_data[mask.data > 0]\n",
    "...     _, median_sigclip, _ = sigma_clipped_stats(annulus_data_1d)\n",
    "...     bkg_median.append(median_sigclip)\n",
    ">>> bkg_median = np.array(bkg_median)\n",
    ">>> phot = aperture_photometry(data, aperture)\n",
    ">>> phot['annulus_median'] = bkg_median\n",
    ">>> phot['aper_bkg'] = bkg_median * aperture.area\n",
    ">>> phot['aper_sum_bkgsub'] = phot['aperture_sum'] - phot['aper_bkg']\n",
    ">>> for col in phot.colnames:\n",
    "...     phot[col].info.format = '%.8g'  # for consistent table output\n",
    ">>> print(phot)"
   ]
  },
  {
   "cell_type": "markdown",
   "id": "aa0a1461",
   "metadata": {},
   "source": [
    "In the cell above, we basically did everything we did before but in one cell. We extract the image, locate the positions of the stars, and set the radii for the aperture and annulus. In the forloop, we set up the functions we used before to find the median background value and subtract the sum from the aperture value for all three stars. In the end we print out a table that displays the information for all three stars."
   ]
  },
  {
   "cell_type": "code",
   "execution_count": 27,
   "id": "d0dbd066",
   "metadata": {},
   "outputs": [],
   "source": [
    "#Error Estimation"
   ]
  },
  {
   "cell_type": "code",
   "execution_count": 28,
   "id": "0d3b8fd2",
   "metadata": {},
   "outputs": [
    {
     "name": "stdout",
     "output_type": "stream",
     "text": [
      " id xcenter ycenter aperture_sum aperture_sum_err\n",
      "      pix     pix                                \n",
      "--- ------- ------- ------------ ----------------\n",
      "  1      30      30    28.274334       0.53173616\n",
      "  2      40      40    28.274334       0.53173616\n"
     ]
    }
   ],
   "source": [
    ">>> positions = [(30., 30.), (40., 40.)]\n",
    ">>> aperture = CircularAperture(positions, r=3.)\n",
    ">>> data = np.ones((100, 100))\n",
    ">>> error = 0.1 * data\n",
    "\n",
    ">>> phot_table = aperture_photometry(data, aperture, error=error)\n",
    ">>> for col in phot_table.colnames:\n",
    "...     phot_table[col].info.format = '%.8g'  # for consistent table output\n",
    ">>> print(phot_table)"
   ]
  },
  {
   "cell_type": "code",
   "execution_count": 29,
   "id": "59a59c45",
   "metadata": {},
   "outputs": [
    {
     "ename": "NameError",
     "evalue": "name 'bkg_error' is not defined",
     "output_type": "error",
     "traceback": [
      "\u001b[1;31m---------------------------------------------------------------------------\u001b[0m",
      "\u001b[1;31mNameError\u001b[0m                                 Traceback (most recent call last)",
      "\u001b[1;32m~\\AppData\\Local\\Temp/ipykernel_27524/1714715760.py\u001b[0m in \u001b[0;36m<module>\u001b[1;34m\u001b[0m\n\u001b[0;32m      1\u001b[0m \u001b[1;32mfrom\u001b[0m \u001b[0mphotutils\u001b[0m\u001b[1;33m.\u001b[0m\u001b[0mutils\u001b[0m \u001b[1;32mimport\u001b[0m \u001b[0mcalc_total_error\u001b[0m\u001b[1;33m\u001b[0m\u001b[1;33m\u001b[0m\u001b[0m\n\u001b[0;32m      2\u001b[0m \u001b[0meffective_gain\u001b[0m \u001b[1;33m=\u001b[0m \u001b[1;36m500\u001b[0m  \u001b[1;31m# seconds\u001b[0m\u001b[1;33m\u001b[0m\u001b[1;33m\u001b[0m\u001b[0m\n\u001b[1;32m----> 3\u001b[1;33m \u001b[0merror\u001b[0m \u001b[1;33m=\u001b[0m \u001b[0mcalc_total_error\u001b[0m\u001b[1;33m(\u001b[0m\u001b[0mdata\u001b[0m\u001b[1;33m,\u001b[0m \u001b[0mbkg_error\u001b[0m\u001b[1;33m,\u001b[0m \u001b[0meffective_gain\u001b[0m\u001b[1;33m)\u001b[0m\u001b[1;33m\u001b[0m\u001b[1;33m\u001b[0m\u001b[0m\n\u001b[0m\u001b[0;32m      4\u001b[0m \u001b[0mphot_table\u001b[0m \u001b[1;33m=\u001b[0m \u001b[0maperture_photometry\u001b[0m\u001b[1;33m(\u001b[0m\u001b[0mdata\u001b[0m \u001b[1;33m-\u001b[0m \u001b[0mbkg\u001b[0m\u001b[1;33m,\u001b[0m \u001b[0maperture\u001b[0m\u001b[1;33m,\u001b[0m \u001b[0merror\u001b[0m\u001b[1;33m=\u001b[0m\u001b[0merror\u001b[0m\u001b[1;33m)\u001b[0m\u001b[1;33m\u001b[0m\u001b[1;33m\u001b[0m\u001b[0m\n",
      "\u001b[1;31mNameError\u001b[0m: name 'bkg_error' is not defined"
     ]
    }
   ],
   "source": [
    ">>> from photutils.utils import calc_total_error\n",
    ">>> effective_gain = 500  # seconds\n",
    ">>> error = calc_total_error(data, bkg_error, effective_gain)  \n",
    ">>> phot_table = aperture_photometry(data - bkg, aperture, error=error)  "
   ]
  },
  {
   "cell_type": "markdown",
   "id": "8a3683e6",
   "metadata": {},
   "source": [
    "This section gives us the error estimation for any of the pixel values. In the first cell you get the sum of the error of all pixels in the aperture. Here the error is defined as .1*data and uses a particular function to find the error."
   ]
  },
  {
   "cell_type": "code",
   "execution_count": 30,
   "id": "349ef69f",
   "metadata": {},
   "outputs": [],
   "source": [
    "#Pixel Masking"
   ]
  },
  {
   "cell_type": "code",
   "execution_count": 31,
   "id": "8dc2ed7e",
   "metadata": {},
   "outputs": [
    {
     "name": "stdout",
     "output_type": "stream",
     "text": [
      "aperture_sum\n",
      "------------\n",
      "   11.566371\n"
     ]
    }
   ],
   "source": [
    ">>> data = np.ones((5, 5))\n",
    ">>> aperture = CircularAperture((2, 2), 2.)\n",
    ">>> mask = np.zeros(data.shape, dtype=bool)\n",
    ">>> data[2, 2] = 100.  # bad pixel\n",
    ">>> mask[2, 2] = True\n",
    ">>> t1 = aperture_photometry(data, aperture, mask=mask)\n",
    ">>> t1['aperture_sum'].info.format = '%.8g'  # for consistent table output\n",
    ">>> print(t1['aperture_sum'])"
   ]
  },
  {
   "cell_type": "code",
   "execution_count": 32,
   "id": "b7fb3aef",
   "metadata": {},
   "outputs": [
    {
     "name": "stdout",
     "output_type": "stream",
     "text": [
      "aperture_sum\n",
      "------------\n",
      "   111.56637\n"
     ]
    }
   ],
   "source": [
    ">>> t2 = aperture_photometry(data, aperture)\n",
    ">>> t2['aperture_sum'].info.format = '%.8g'  # for consistent table output\n",
    ">>> print(t2['aperture_sum'])"
   ]
  },
  {
   "cell_type": "markdown",
   "id": "73f0e82e",
   "metadata": {},
   "source": [
    "These two cells compare the difference between masking pixels (ignoring) from the aperture."
   ]
  }
 ],
 "metadata": {
  "kernelspec": {
   "display_name": "Python 3 (ipykernel)",
   "language": "python",
   "name": "python3"
  },
  "language_info": {
   "codemirror_mode": {
    "name": "ipython",
    "version": 3
   },
   "file_extension": ".py",
   "mimetype": "text/x-python",
   "name": "python",
   "nbconvert_exporter": "python",
   "pygments_lexer": "ipython3",
   "version": "3.9.7"
  }
 },
 "nbformat": 4,
 "nbformat_minor": 5
}
